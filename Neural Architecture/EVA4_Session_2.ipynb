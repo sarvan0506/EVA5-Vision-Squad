{
 "cells": [
  {
   "cell_type": "code",
   "execution_count": 15,
   "metadata": {
    "colab": {},
    "colab_type": "code",
    "id": "0m2JWFliFfKT"
   },
   "outputs": [],
   "source": [
    "#import all necessary libraries\n",
    "\n",
    "from __future__ import print_function\n",
    "import torch\n",
    "import torch.nn as nn\n",
    "import torch.nn.functional as F\n",
    "import torch.optim as optim\n",
    "from torchvision import datasets, transforms"
   ]
  },
  {
   "cell_type": "code",
   "execution_count": 40,
   "metadata": {
    "colab": {},
    "colab_type": "code",
    "id": "h_Cx9q2QFgM7"
   },
   "outputs": [],
   "source": [
    "\"\"\"\n",
    "pytorch implementation of Net Class, extends the nn.Module \n",
    "which is the building block for all pytorch models\n",
    "\"\"\"\n",
    "\n",
    "class Net(nn.Module):\n",
    "    def __init__(self):                                #        Channel dim        |       Receptive Field  \n",
    "        super(Net, self).__init__()                    #    input       output     |     input       output\n",
    "        self.conv1 = nn.Conv2d(1, 32, 3, padding=1)    #     28           28       |       1           3\n",
    "        self.conv2 = nn.Conv2d(32, 64, 3, padding=1)   #     28           28       |       3           5\n",
    "        self.pool1 = nn.MaxPool2d(2, 2)                #     28           14       |       5          10\n",
    "        self.conv3 = nn.Conv2d(64, 128, 3, padding=1)  #     14           14       |      10          12\n",
    "        self.conv4 = nn.Conv2d(128, 256, 3, padding=1) #     14           14       |      12          14\n",
    "        self.pool2 = nn.MaxPool2d(2, 2)                #     14            7       |      14          28\n",
    "        self.conv5 = nn.Conv2d(256, 512, 3)            #      7            5       |      28          30\n",
    "        self.conv6 = nn.Conv2d(512, 1024, 3)           #      5            3       |      30          32\n",
    "        self.conv7 = nn.Conv2d(1024, 10, 3)            #      3            1       |      32          34\n",
    "\n",
    "    def forward(self, x):\n",
    "        x = self.pool1(F.relu(self.conv2(F.relu(self.conv1(x)))))  # First Block edges and gradients\n",
    "        x = self.pool2(F.relu(self.conv4(F.relu(self.conv3(x)))))  # Second Block Textures and Patterns\n",
    "        x = F.relu(self.conv6(F.relu(self.conv5(x))))              # Third Block Parts of Objects\n",
    "        x = self.conv7(x) #F.relu(self.conv7(x))\n",
    "        x = x.view(-1, 10)  \n",
    "        return F.log_softmax(x)   # Softmax function which forces the network to predict a class"
   ]
  },
  {
   "cell_type": "code",
   "execution_count": 41,
   "metadata": {
    "colab": {},
    "colab_type": "code",
    "id": "xdydjYTZFyi3"
   },
   "outputs": [
    {
     "name": "stdout",
     "output_type": "stream",
     "text": [
      "----------------------------------------------------------------\n",
      "        Layer (type)               Output Shape         Param #\n",
      "================================================================\n",
      "            Conv2d-1           [-1, 32, 28, 28]             320\n",
      "            Conv2d-2           [-1, 64, 28, 28]          18,496\n",
      "         MaxPool2d-3           [-1, 64, 14, 14]               0\n",
      "            Conv2d-4          [-1, 128, 14, 14]          73,856\n",
      "            Conv2d-5          [-1, 256, 14, 14]         295,168\n",
      "         MaxPool2d-6            [-1, 256, 7, 7]               0\n",
      "            Conv2d-7            [-1, 512, 5, 5]       1,180,160\n",
      "            Conv2d-8           [-1, 1024, 3, 3]       4,719,616\n",
      "            Conv2d-9             [-1, 10, 1, 1]          92,170\n",
      "================================================================\n",
      "Total params: 6,379,786\n",
      "Trainable params: 6,379,786\n",
      "Non-trainable params: 0\n",
      "----------------------------------------------------------------\n",
      "Input size (MB): 0.00\n",
      "Forward/backward pass size (MB): 1.51\n",
      "Params size (MB): 24.34\n",
      "Estimated Total Size (MB): 25.85\n",
      "----------------------------------------------------------------\n"
     ]
    },
    {
     "name": "stderr",
     "output_type": "stream",
     "text": [
      "/usr/local/lib/python3.6/dist-packages/ipykernel_launcher.py:25: UserWarning: Implicit dimension choice for log_softmax has been deprecated. Change the call to include dim=X as an argument.\n"
     ]
    }
   ],
   "source": [
    "from torchsummary import summary  # gives nice visualization for the network\n",
    "use_cuda = torch.cuda.is_available() # check if GPU is available\n",
    "device = torch.device(\"cuda\" if use_cuda else \"cpu\") # initialize cuda device\n",
    "model = Net().to(device) # load the model onto GPU\n",
    "summary(model, input_size=(1, 28, 28)) # Visualize the network"
   ]
  },
  {
   "cell_type": "code",
   "execution_count": 42,
   "metadata": {
    "colab": {},
    "colab_type": "code",
    "id": "DqTWLaM5GHgH"
   },
   "outputs": [],
   "source": [
    "torch.manual_seed(1) # set random seed to get reproducable results\n",
    "batch_size = 128\n",
    "\n",
    "# pin memory helps to lod data onto GPU qickly while training\n",
    "kwargs = {'num_workers': 1, 'pin_memory': True} if use_cuda else {}\n",
    "\n",
    "# define train dataloader with all parameters\n",
    "train_loader = torch.utils.data.DataLoader(\n",
    "    datasets.MNIST('../data', train=True, download=True,\n",
    "                    transform=transforms.Compose([\n",
    "                        transforms.ToTensor(),\n",
    "                        transforms.Normalize((0.1307,), (0.3081,)) # do image normalization with mean and std of entire dataset\n",
    "                    ])),\n",
    "    batch_size=batch_size, shuffle=True, **kwargs)\n",
    "\n",
    "# define test dataloader with all parameters\n",
    "test_loader = torch.utils.data.DataLoader(\n",
    "    datasets.MNIST('../data', train=False, transform=transforms.Compose([\n",
    "                        transforms.ToTensor(),\n",
    "                        transforms.Normalize((0.1307,), (0.3081,))\n",
    "                    ])),\n",
    "    batch_size=batch_size, shuffle=True, **kwargs)\n"
   ]
  },
  {
   "cell_type": "code",
   "execution_count": 43,
   "metadata": {
    "colab": {},
    "colab_type": "code",
    "id": "8fDefDhaFlwH"
   },
   "outputs": [],
   "source": [
    "from tqdm import tqdm  # library to show progress bar\n",
    "\n",
    "# train function\n",
    "def train(model, device, train_loader, optimizer, epoch):\n",
    "    model.train() # sets the model on training mode\n",
    "    pbar = tqdm(train_loader)\n",
    "    for batch_idx, (data, target) in enumerate(pbar):\n",
    "        data, target = data.to(device), target.to(device) # load the batch onto device(GPU)\n",
    "        optimizer.zero_grad() # set the gradients manually to zero, since gradients are cumulative we need to set it to zero before avery batch\n",
    "        output = model(data) # train 1 batch\n",
    "        loss = F.nll_loss(output, target) # compute negative log likelihood loss\n",
    "        loss.backward() # compute gradients\n",
    "        optimizer.step() # back propagate\n",
    "        pbar.set_description(desc= f'loss={loss.item()} batch_id={batch_idx}')\n",
    "\n",
    "# test function\n",
    "def test(model, device, test_loader):\n",
    "    model.eval() # sets the model on prediction mode\n",
    "    test_loss = 0\n",
    "    correct = 0\n",
    "    with torch.no_grad(): # disables back propagation\n",
    "        for data, target in test_loader:\n",
    "            data, target = data.to(device), target.to(device)\n",
    "            output = model(data) # predict\n",
    "            test_loss += F.nll_loss(output, target, reduction='sum').item()  # sum up batch loss\n",
    "            pred = output.argmax(dim=1, keepdim=True)  # get the index of the max log-probability\n",
    "            correct += pred.eq(target.view_as(pred)).sum().item()\n",
    "\n",
    "    test_loss /= len(test_loader.dataset)\n",
    "\n",
    "    print('\\nTest set: Average loss: {:.4f}, Accuracy: {}/{} ({:.0f}%)\\n'.format(\n",
    "        test_loss, correct, len(test_loader.dataset),\n",
    "        100. * correct / len(test_loader.dataset)))"
   ]
  },
  {
   "cell_type": "code",
   "execution_count": 44,
   "metadata": {
    "colab": {},
    "colab_type": "code",
    "id": "MMWbLWO6FuHb"
   },
   "outputs": [
    {
     "name": "stderr",
     "output_type": "stream",
     "text": [
      "  0%|          | 0/469 [00:00<?, ?it/s]/usr/local/lib/python3.6/dist-packages/ipykernel_launcher.py:25: UserWarning: Implicit dimension choice for log_softmax has been deprecated. Change the call to include dim=X as an argument.\n",
      "loss=0.033012863248586655 batch_id=468: 100%|██████████| 469/469 [00:09<00:00, 48.93it/s]\n"
     ]
    },
    {
     "name": "stdout",
     "output_type": "stream",
     "text": [
      "\n",
      "Test set: Average loss: 0.0672, Accuracy: 9789/10000 (98%)\n",
      "\n"
     ]
    }
   ],
   "source": [
    "\n",
    "model = Net().to(device)\n",
    "optimizer = optim.SGD(model.parameters(), lr=0.01, momentum=0.9) # optimizer Stochastic Gradient Descend\n",
    "\n",
    "for epoch in range(1, 2): # epochs\n",
    "    train(model, device, train_loader, optimizer, epoch)\n",
    "    test(model, device, test_loader)"
   ]
  }
 ],
 "metadata": {
  "accelerator": "GPU",
  "colab": {
   "name": "EVA4 - Session 2.ipynb",
   "provenance": []
  },
  "kernelspec": {
   "display_name": "Python 3",
   "language": "python",
   "name": "python3"
  },
  "language_info": {
   "codemirror_mode": {
    "name": "ipython",
    "version": 3
   },
   "file_extension": ".py",
   "mimetype": "text/x-python",
   "name": "python",
   "nbconvert_exporter": "python",
   "pygments_lexer": "ipython3",
   "version": "3.7.3"
  }
 },
 "nbformat": 4,
 "nbformat_minor": 1
}
