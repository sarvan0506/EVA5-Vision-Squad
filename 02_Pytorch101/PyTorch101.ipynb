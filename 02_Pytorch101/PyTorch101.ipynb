{
 "cells": [
  {
   "cell_type": "markdown",
   "metadata": {
    "colab_type": "text",
    "id": "_kYM3ylzYo1Q"
   },
   "source": [
    "![PyTorch](https://devblogs.nvidia.com/wp-content/uploads/2017/04/pytorch-logo-dark.png)\n",
    "\n",
    "An open source machine learning framework that accelerates the path from research prototyping to production deployment.\n",
    "\n"
   ]
  },
  {
   "cell_type": "markdown",
   "metadata": {
    "colab_type": "text",
    "id": "WcVqSTrWY6oz"
   },
   "source": [
    "# Tensor - Pytorch's core data structure\n",
    "\n",
    "In Python we can create lists, lists of lists, lists of lists and so on. In NumPy there is a `numpy.ndarray` which represents `n`- dimensional array. In math there is a special name for the generalization of vectors and matrices to a higher dimensional space - a tensor\n",
    "\n",
    "Tensor is an entity with a defined number of dimensions called an order (rank). \n",
    "\n",
    "**Scalar** can be considered as a rank-0-tensor. \n",
    "\n",
    "**Vector** can be introduced as a rank-1-tensor. \n",
    "\n",
    "**Matrices** can be considered as a rank-2-tensor.\n",
    "\n",
    "# Tensor Basics\n",
    "\n",
    "Let's import the torch module first."
   ]
  },
  {
   "cell_type": "code",
   "execution_count": 1,
   "metadata": {
    "colab": {},
    "colab_type": "code",
    "id": "e-oFVL2tYYqp"
   },
   "outputs": [],
   "source": [
    "import numpy as np\n",
    "import torch"
   ]
  },
  {
   "cell_type": "markdown",
   "metadata": {
    "colab_type": "text",
    "id": "uGxuR5IEaFJa"
   },
   "source": [
    "## Tensor Creation\n",
    "Let's view examples of matrices and tensors generation\n",
    "\n",
    "2-dimensional (rank-2) tensor of zeros:"
   ]
  },
  {
   "cell_type": "code",
   "execution_count": 2,
   "metadata": {
    "colab": {
     "base_uri": "https://localhost:8080/",
     "height": 68
    },
    "colab_type": "code",
    "id": "897JQc25aD3E",
    "outputId": "a8987bbc-a3a6-4d65-c366-b10b53303656"
   },
   "outputs": [
    {
     "data": {
      "text/plain": [
       "tensor([[0., 0., 0., 0.],\n",
       "        [0., 0., 0., 0.],\n",
       "        [0., 0., 0., 0.]])"
      ]
     },
     "execution_count": 2,
     "metadata": {},
     "output_type": "execute_result"
    }
   ],
   "source": [
    "torch.zeros(3, 4)"
   ]
  },
  {
   "cell_type": "markdown",
   "metadata": {
    "colab_type": "text",
    "id": "pujmpEBhaPRA"
   },
   "source": [
    "Random rank-3 tensor:\n",
    "_read the print below and convince yourself how this is a rank-3-tensor and learn what those 2, 3, 4 values are there for_"
   ]
  },
  {
   "cell_type": "code",
   "execution_count": 3,
   "metadata": {
    "colab": {
     "base_uri": "https://localhost:8080/",
     "height": 136
    },
    "colab_type": "code",
    "id": "mBrznTNhaOL7",
    "outputId": "2560a9b5-71a7-454d-ede1-40f8bdac2b9a"
   },
   "outputs": [
    {
     "data": {
      "text/plain": [
       "tensor([[[0.8356, 0.2432, 0.0916, 0.0864],\n",
       "         [0.4052, 0.8141, 0.4873, 0.8493],\n",
       "         [0.9088, 0.3423, 0.4827, 0.4036]],\n",
       "\n",
       "        [[0.5679, 0.5801, 0.1599, 0.0640],\n",
       "         [0.8669, 0.3993, 0.7954, 0.8155],\n",
       "         [0.4166, 0.2846, 0.8023, 0.1904]]])"
      ]
     },
     "execution_count": 3,
     "metadata": {},
     "output_type": "execute_result"
    }
   ],
   "source": [
    "torch.rand(2, 3, 4)"
   ]
  },
  {
   "cell_type": "markdown",
   "metadata": {
    "colab_type": "text",
    "id": "kO4fIr15asdi"
   },
   "source": [
    "I am hoping you have noticed 4-elements in a row, 3 rows making one block and there are 2 blocks. \n",
    "\n",
    "Random rank-4-tensor:"
   ]
  },
  {
   "cell_type": "code",
   "execution_count": 4,
   "metadata": {
    "colab": {
     "base_uri": "https://localhost:8080/",
     "height": 221
    },
    "colab_type": "code",
    "id": "KiCLvMGCaVZ3",
    "outputId": "f4148879-53d9-4be1-86bf-9da722207196"
   },
   "outputs": [
    {
     "data": {
      "text/plain": [
       "tensor([[[[0.4095, 0.0577, 0.4151],\n",
       "          [0.2082, 0.9093, 0.9992]],\n",
       "\n",
       "         [[0.2805, 0.0417, 0.9529],\n",
       "          [0.1765, 0.9005, 0.1056]]],\n",
       "\n",
       "\n",
       "        [[[0.1817, 0.5076, 0.9553],\n",
       "          [0.9740, 0.6024, 0.2842]],\n",
       "\n",
       "         [[0.1154, 0.9184, 0.6759],\n",
       "          [0.7709, 0.0352, 0.8953]]]])"
      ]
     },
     "execution_count": 4,
     "metadata": {},
     "output_type": "execute_result"
    }
   ],
   "source": [
    "torch.rand(2, 2, 2, 3)"
   ]
  },
  {
   "cell_type": "markdown",
   "metadata": {
    "colab_type": "text",
    "id": "lF6VL68s3AMV"
   },
   "source": [
    "## Question 1:\n",
    "\n",
    "How many dimensions are there in a tensor defined as below?"
   ]
  },
  {
   "cell_type": "code",
   "execution_count": 5,
   "metadata": {
    "colab": {
     "base_uri": "https://localhost:8080/",
     "height": 34
    },
    "colab_type": "code",
    "id": "8IbXcI3x3Ibt",
    "outputId": "c6e25c8a-abb4-4a4c-9d78-c2bfeda3b81f"
   },
   "outputs": [
    {
     "data": {
      "text/plain": [
       "tensor([[[[0.1274]]]])"
      ]
     },
     "execution_count": 5,
     "metadata": {},
     "output_type": "execute_result"
    }
   ],
   "source": [
    "torch.rand(1, 1, 1, 1)"
   ]
  },
  {
   "cell_type": "code",
   "execution_count": 6,
   "metadata": {
    "colab": {
     "base_uri": "https://localhost:8080/",
     "height": 34
    },
    "colab_type": "code",
    "id": "GGoVVSLcnniR",
    "outputId": "0a5cc685-bb2d-459d-b846-5296b59b761e"
   },
   "outputs": [
    {
     "data": {
      "text/plain": [
       "4"
      ]
     },
     "execution_count": 6,
     "metadata": {},
     "output_type": "execute_result"
    }
   ],
   "source": [
    "len(torch.rand(1, 1, 1, 1).shape)"
   ]
  },
  {
   "cell_type": "markdown",
   "metadata": {
    "colab_type": "text",
    "id": "qmgpqssRa9jF"
   },
   "source": [
    ".\n",
    "\n",
    "---\n",
    "\n",
    "\n",
    "There are many more ways to create tensor using some restrictions on values it should contatn - for the full reference, please follow the [official docs](https://pytorch.org/docs/stable/torch.html#creation-ops). \n",
    "\n",
    "\n",
    ".\n",
    "---\n",
    "\n",
    "\n",
    "# Python / NumPy / Pytorch interoperability\n",
    "\n",
    "You can create tensors from python as well as numpy arrays. You can also convert torch tensors to numpy arrays. So, the interoperability between torch and numpy is pretty good. "
   ]
  },
  {
   "cell_type": "code",
   "execution_count": 7,
   "metadata": {
    "colab": {
     "base_uri": "https://localhost:8080/",
     "height": 119
    },
    "colab_type": "code",
    "id": "ipgpeWPfa6gE",
    "outputId": "da0fd058-f03c-475f-9ead-66bbdd5fc0a7"
   },
   "outputs": [
    {
     "name": "stdout",
     "output_type": "stream",
     "text": [
      "List:    [1, 2]\n",
      "Array:   [1 2]\n",
      "Tensor:  tensor([1, 2])\n",
      "Tensor:  tensor([1, 2], dtype=torch.int32)\n",
      "Tensor:  tensor([1, 2], dtype=torch.int32)\n",
      "Array:   [1 2]\n"
     ]
    }
   ],
   "source": [
    "# Simple Python List\n",
    "python_list = [1, 2]\n",
    "\n",
    "# Create a numpy array from python list\n",
    "numpy_array = np.array(python_list)\n",
    "\n",
    "# Create a torch Tensor from python list\n",
    "tensor_from_list = torch.tensor(python_list)\n",
    "\n",
    "# Create a torch Tensor from Numpy array\n",
    "tensor_from_array = torch.tensor(numpy_array)\n",
    "\n",
    "# Another way to create a torch Tensor from Numpy array (share same storage)\n",
    "tensor_from_array_v2 = torch.from_numpy(numpy_array)\n",
    "\n",
    "# Convert torch tensor to numpy array\n",
    "array_from_tensor = tensor_from_array.numpy()\n",
    "\n",
    "print('List:   ', python_list)\n",
    "print('Array:  ', numpy_array)\n",
    "print('Tensor: ', tensor_from_list)\n",
    "print('Tensor: ', tensor_from_array)\n",
    "print('Tensor: ', tensor_from_array_v2)\n",
    "print('Array:  ', array_from_tensor)"
   ]
  },
  {
   "cell_type": "markdown",
   "metadata": {
    "colab_type": "text",
    "id": "X_x-86B8gqik"
   },
   "source": [
    "**Difference between** `torch.Tensor` **and** `torch.from_numpy`\n",
    "\n",
    "Pytorch aims to be an effective library for computations. What does it mean? It means that pytorch avoids memory copying if it can. "
   ]
  },
  {
   "cell_type": "code",
   "execution_count": 8,
   "metadata": {
    "colab": {
     "base_uri": "https://localhost:8080/",
     "height": 68
    },
    "colab_type": "code",
    "id": "eHCKDGpygn_d",
    "outputId": "be5c6fc6-b180-4429-8c7c-a5684c11d3e4"
   },
   "outputs": [
    {
     "name": "stdout",
     "output_type": "stream",
     "text": [
      "Array:   [10  2]\n",
      "Tensor:  tensor([1, 2], dtype=torch.int32)\n",
      "Tensor:  tensor([10,  2], dtype=torch.int32)\n"
     ]
    }
   ],
   "source": [
    "numpy_array[0] = 10\n",
    "\n",
    "print('Array:  ', numpy_array)\n",
    "print('Tensor: ', tensor_from_array)\n",
    "print('Tensor: ', tensor_from_array_v2)"
   ]
  },
  {
   "cell_type": "markdown",
   "metadata": {
    "colab_type": "text",
    "id": "-CKtdNRM3SMp"
   },
   "source": [
    "## Question 2:\n",
    "\n",
    "Assume that we moved our complete (cats vs dogs) image dataset to numpy arrays. Then we use torch.from_numpy to convert these images to tensor. Then we apply a specific data augmentation strategy called \"CutOut\" which blocks a portion of the image directly on these tensors. What will happen to the accuracy of a model trained on this strategy compared to the one without this strategy? CutOut strategy is shown below: \n",
    "\n",
    "![CutOut](https://encrypted-tbn0.gstatic.com/images?q=tbn%3AANd9GcSnSyN835AmtQPKQbPjDHX-FmshNilbtexX95cRGQPwl56QCGDn)\n",
    "\n",
    "\n",
    "\n",
    "\n",
    "---\n",
    "\n",
    "\n"
   ]
  },
  {
   "cell_type": "code",
   "execution_count": 9,
   "metadata": {
    "colab": {
     "base_uri": "https://localhost:8080/",
     "height": 68
    },
    "colab_type": "code",
    "id": "0AT3xF7ExsmD",
    "outputId": "1ce7d681-a675-49df-d1d6-39c2b1012833"
   },
   "outputs": [
    {
     "name": "stdout",
     "output_type": "stream",
     "text": [
      "[3 5 6 8]\n",
      "[21  5  6  8]\n",
      "tensor([21,  5,  6,  8], dtype=torch.int32)\n"
     ]
    }
   ],
   "source": [
    "x = np.array([3,5,6,8])\n",
    "print(x)\n",
    "tx1 = torch.from_numpy(x)\n",
    "tx1[0] = 21\n",
    "print(x)\n",
    "print(tx1)"
   ]
  },
  {
   "cell_type": "code",
   "execution_count": 10,
   "metadata": {
    "colab": {
     "base_uri": "https://localhost:8080/",
     "height": 34
    },
    "colab_type": "code",
    "id": "Eu2NAqF_xqtK",
    "outputId": "57a3e1ea-c5f8-4e36-d355-8f98b8c2a7df"
   },
   "outputs": [
    {
     "name": "stdout",
     "output_type": "stream",
     "text": [
      "Object `behavior` not found.\n"
     ]
    }
   ],
   "source": [
    "## Question 3:\n",
    "Why do you think we are observing this behavior?"
   ]
  },
  {
   "cell_type": "code",
   "execution_count": null,
   "metadata": {},
   "outputs": [],
   "source": [
    "Why do you think we are observing this behavior"
   ]
  },
  {
   "cell_type": "markdown",
   "metadata": {
    "colab_type": "text",
    "id": "dZq7O-aihSOA"
   },
   "source": [
    "We have two different ways to create tensor from its NumPy counterpart - one copies memory and another one shares the same underlying storage. It works in the opposite way:"
   ]
  },
  {
   "cell_type": "code",
   "execution_count": 11,
   "metadata": {
    "colab": {
     "base_uri": "https://localhost:8080/",
     "height": 85
    },
    "colab_type": "code",
    "id": "TNFOwV8EhPwQ",
    "outputId": "f9ed3c25-c35e-4a74-ab39-60bdaddcf7b1"
   },
   "outputs": [
    {
     "name": "stdout",
     "output_type": "stream",
     "text": [
      "Tensor:  tensor([1, 2], dtype=torch.int32)\n",
      "Array:  [1 2]\n",
      "Tensor:  tensor([11,  2], dtype=torch.int32)\n",
      "Array:  [11  2]\n"
     ]
    }
   ],
   "source": [
    "array_from_tensor = tensor_from_array.numpy()\n",
    "print('Tensor: ', tensor_from_array)\n",
    "print('Array: ', array_from_tensor)\n",
    "\n",
    "tensor_from_array[0] = 11\n",
    "print('Tensor: ', tensor_from_array)\n",
    "print('Array: ', array_from_tensor)"
   ]
  },
  {
   "cell_type": "markdown",
   "metadata": {
    "colab_type": "text",
    "id": "UM9ytbvKhtCw"
   },
   "source": [
    "## Data types\n",
    "\n",
    "The basic data type of all Deep Learning-related operations is float, but sometimes you may need something else. Pytorch support different number types for its tensors the same way NumPy does it - by specifying the data type on tensor creation or via casting. Ths full list of supported data types can be found [here](https://pytorch.org/docs/stable/tensors.html). "
   ]
  },
  {
   "cell_type": "code",
   "execution_count": 12,
   "metadata": {
    "colab": {
     "base_uri": "https://localhost:8080/",
     "height": 153
    },
    "colab_type": "code",
    "id": "Bd6WkzJ4hpYi",
    "outputId": "685b722e-8633-414a-df68-7997fa77d4cd"
   },
   "outputs": [
    {
     "name": "stdout",
     "output_type": "stream",
     "text": [
      "Tensor with default type:  tensor([[0., 0.],\n",
      "        [0., 0.]])\n",
      "Tensor with 16-bit float:  tensor([[0., 0.],\n",
      "        [0., 0.]], dtype=torch.float16)\n",
      "Tensor with integers:  tensor([[0, 0],\n",
      "        [0, 0]], dtype=torch.int16)\n",
      "Tensor with boolean data:  tensor([[False, False],\n",
      "        [False, False]])\n"
     ]
    }
   ],
   "source": [
    "tensor = torch.zeros(2, 2)\n",
    "print('Tensor with default type: ', tensor)\n",
    "tensor = torch.zeros(2, 2, dtype=torch.float16)\n",
    "print('Tensor with 16-bit float: ', tensor)\n",
    "tensor = torch.zeros(2, 2, dtype=torch.int16)\n",
    "print('Tensor with integers: ', tensor)\n",
    "tensor = torch.zeros(2, 2, dtype=torch.bool)\n",
    "print('Tensor with boolean data: ', tensor)"
   ]
  },
  {
   "cell_type": "markdown",
   "metadata": {
    "colab_type": "text",
    "id": "a9F4Dkdr40TE"
   },
   "source": [
    "\n",
    "\n",
    "---\n",
    "\n",
    "\n",
    "## Question 4:\n",
    "We saw above that some times numpy and tensors share same storage and changing one changes the other. \n",
    "If we define a rank-2-tensor with ones (dtype of f16), and then convert it into a numpy data type using tensor.numpy() and store it in a variable called \"num\", and then we perform this operation `num = num * 0.5`, will the original tensor have 1.0s or 0.5s as its element values? \n"
   ]
  },
  {
   "cell_type": "code",
   "execution_count": 89,
   "metadata": {
    "colab": {
     "base_uri": "https://localhost:8080/",
     "height": 357
    },
    "colab_type": "code",
    "id": "C5ioXytw0BNo",
    "outputId": "1fa73461-eb55-4b11-80a7-4776e1168c48"
   },
   "outputs": [
    {
     "name": "stdout",
     "output_type": "stream",
     "text": [
      "tensor\n",
      "tensor([[1., 1.],\n",
      "        [1., 1.]], dtype=torch.float16)\n",
      "numpy array\n",
      "[[1. 1.]\n",
      " [1. 1.]]\n",
      "After scalar multiplication\n",
      "tensor\n",
      "tensor([[1., 1.],\n",
      "        [1., 1.]], dtype=torch.float16)\n",
      "numpy array\n",
      "[[0.5 0.5]\n",
      " [0.5 0.5]]\n"
     ]
    }
   ],
   "source": [
    "tensor = torch.ones(2, 2, dtype=torch.float16)\n",
    "print(\"tensor\")\n",
    "print(tensor)\n",
    "num = tensor.numpy()\n",
    "print(\"numpy array\")\n",
    "print(num)\n",
    "\n",
    "\"\"\"\n",
    "num[0] = 0.5\n",
    "print(\"After Assignment operation\")\n",
    "print(\"tensor\")\n",
    "print(tensor)\n",
    "print(\"numpy array\")\n",
    "print(num)\n",
    "\"\"\"\n",
    "\n",
    "num = num * 0.5\n",
    "print(\"After scalar multiplication\")\n",
    "print(\"tensor\")\n",
    "print(tensor)\n",
    "print(\"numpy array\")\n",
    "print(num)"
   ]
  },
  {
   "cell_type": "markdown",
   "metadata": {
    "colab_type": "text",
    "id": "OiQt8Mmm51OE"
   },
   "source": [
    "\n",
    "\n",
    "---\n",
    "\n",
    "## Question 5: \n",
    "If the operation `num = num*5` is changed to `num[:] = num*5` will the original tensor have 1.0s or 0.5s as its element values? \n",
    "\n",
    "\n",
    "\n",
    "---\n",
    "\n"
   ]
  },
  {
   "cell_type": "code",
   "execution_count": 14,
   "metadata": {
    "colab": {
     "base_uri": "https://localhost:8080/",
     "height": 357
    },
    "colab_type": "code",
    "id": "UzFhL3i91nuO",
    "outputId": "e67f56ca-04c1-4f5d-8602-4402502787a0"
   },
   "outputs": [
    {
     "name": "stdout",
     "output_type": "stream",
     "text": [
      "tensor\n",
      "tensor([[0., 0.],\n",
      "        [0., 0.]], dtype=torch.float16)\n",
      "numpy array\n",
      "[[0. 0.]\n",
      " [0. 0.]]\n",
      "After Assignment operation\n",
      "tensor\n",
      "tensor([[21., 21.],\n",
      "        [ 0.,  0.]], dtype=torch.float16)\n",
      "numpy array\n",
      "[[21. 21.]\n",
      " [ 0.  0.]]\n",
      "After scalar multiplication\n",
      "tensor\n",
      "tensor([[10.5000, 10.5000],\n",
      "        [ 0.0000,  0.0000]], dtype=torch.float16)\n",
      "numpy array\n",
      "[[10.5 10.5]\n",
      " [ 0.   0. ]]\n"
     ]
    }
   ],
   "source": [
    "tensor = torch.zeros(2, 2, dtype=torch.float16)\n",
    "print(\"tensor\")\n",
    "print(tensor)\n",
    "num = tensor.numpy()\n",
    "print(\"numpy array\")\n",
    "print(num)\n",
    "num[0] = 21\n",
    "print(\"After Assignment operation\")\n",
    "print(\"tensor\")\n",
    "print(tensor)\n",
    "print(\"numpy array\")\n",
    "print(num)\n",
    "num[:] = num * 0.5\n",
    "print(\"After scalar multiplication\")\n",
    "print(\"tensor\")\n",
    "print(tensor)\n",
    "print(\"numpy array\")\n",
    "print(num)"
   ]
  },
  {
   "cell_type": "markdown",
   "metadata": {
    "colab_type": "text",
    "id": "vzh8UB8KiVmb"
   },
   "source": [
    "## Indexing\n",
    "\n",
    "Tensor provides access to its elements via the same `[]` operation as a regular python list or NumPy array. However, as you may recall from NumPy usage, the full power of math libraries is accessible only via vectorized operations, i.e. operations without explicit looping over all vector elements in python and using implicit optimized loops in C/C++/CUDA/Fortran/etc. available via special function calls. Pytorch employs the same paradigm and provides a wide range of vectorized operations. Let's take a look at some examples. \n",
    "\n",
    "Joining a list of tensors together with `torch.cat`"
   ]
  },
  {
   "cell_type": "code",
   "execution_count": 15,
   "metadata": {
    "colab": {
     "base_uri": "https://localhost:8080/",
     "height": 119
    },
    "colab_type": "code",
    "id": "GMaCDKPhiUAb",
    "outputId": "5ebbf49a-3b6c-43e4-cd7b-3d625dffc30c"
   },
   "outputs": [
    {
     "name": "stdout",
     "output_type": "stream",
     "text": [
      "tensor([[0., 0.],\n",
      "        [0., 0.],\n",
      "        [0., 0.],\n",
      "        [1., 1.],\n",
      "        [1., 1.],\n",
      "        [1., 1.]])\n"
     ]
    }
   ],
   "source": [
    "a = torch.zeros(3, 2)\n",
    "b = torch.ones(3, 2)\n",
    "print(torch.cat((a, b), dim=0))"
   ]
  },
  {
   "cell_type": "markdown",
   "metadata": {
    "colab_type": "text",
    "id": "5bj4aeE86zdH"
   },
   "source": [
    "\n",
    "\n",
    "---\n",
    "\n",
    "## Question 6: \n",
    "Is the transpose of concatenated a & b tensor on dimension 1, same as the contatenated tensor of a & b on dimension 0? \n",
    "\n",
    "\n",
    "\n",
    "---\n",
    "\n"
   ]
  },
  {
   "cell_type": "code",
   "execution_count": 16,
   "metadata": {
    "colab": {
     "base_uri": "https://localhost:8080/",
     "height": 85
    },
    "colab_type": "code",
    "id": "FXILLW0o2BvZ",
    "outputId": "c634a731-6748-4940-bd11-663c0b3312ba"
   },
   "outputs": [
    {
     "name": "stdout",
     "output_type": "stream",
     "text": [
      "tensor([[0., 0., 0.],\n",
      "        [0., 0., 0.],\n",
      "        [1., 1., 1.],\n",
      "        [1., 1., 1.]])\n"
     ]
    }
   ],
   "source": [
    "print(torch.transpose(torch.cat((a, b), dim=1), 0, 1))"
   ]
  },
  {
   "cell_type": "markdown",
   "metadata": {
    "colab_type": "text",
    "id": "0TXNne69j7LP"
   },
   "source": [
    "Indexing with another tenxor/array:"
   ]
  },
  {
   "cell_type": "code",
   "execution_count": 17,
   "metadata": {
    "colab": {
     "base_uri": "https://localhost:8080/",
     "height": 102
    },
    "colab_type": "code",
    "id": "KiE-Fsi4jVd6",
    "outputId": "33ffc863-9f67-4264-dab7-ea7893a34385"
   },
   "outputs": [
    {
     "name": "stdout",
     "output_type": "stream",
     "text": [
      "tensor([0, 1, 2, 3, 4, 5, 6, 7, 8, 9])\n",
      "[False False False False False False  True  True  True  True]\n",
      "tensor([6, 7, 8, 9])\n",
      "tensor([0, 1, 2, 3, 4, 0, 1, 2, 3, 4])\n",
      "tensor([0, 1, 2, 3, 4, 0, 1, 2, 3, 4])\n"
     ]
    }
   ],
   "source": [
    "a = torch.arange(start=0, end=10)\n",
    "indices = np.arange(0, 10) > 5\n",
    "print(a)\n",
    "print(indices)\n",
    "print(a[indices])\n",
    "\n",
    "indices = torch.arange(start=0, end=10) %5\n",
    "print(indices)\n",
    "print(a[indices])"
   ]
  },
  {
   "cell_type": "markdown",
   "metadata": {
    "colab_type": "text",
    "id": "LS4dnlu47WQu"
   },
   "source": [
    "\n",
    "\n",
    "---\n",
    "\n",
    "## Question 7:\n",
    "\n",
    "`a` is defined as `torch.arange(start=0, end=10)`. We will create `b` using the two operations as below. In both cases do we get the same value?\n",
    "\n",
    "\n",
    "1.   indices variable created by the modulo operation on arange between 0 and 10. Then a new varialble `b` is created from `a` using the last 5 elements of indices. \n",
    "2.   indices variable created by the modulo operation on arange betwenn 1 and 11. Then a new varialble `b` is created from `a` using the last 5 elements of indices. \n",
    "\n",
    "\n",
    "\n",
    "---\n",
    "\n",
    "\n"
   ]
  },
  {
   "cell_type": "code",
   "execution_count": 18,
   "metadata": {
    "colab": {
     "base_uri": "https://localhost:8080/",
     "height": 102
    },
    "colab_type": "code",
    "id": "LoZzH5jzpqFA",
    "outputId": "01ab35a1-bcf6-40d0-9bd2-00fdd572c9bf"
   },
   "outputs": [
    {
     "name": "stdout",
     "output_type": "stream",
     "text": [
      "tensor([0, 1, 2, 3, 4, 5, 6, 7, 8, 9])\n",
      "ind1 tensor([0, 1, 2, 3, 4, 0, 1, 2, 3, 4])\n",
      "b tensor([0, 1, 2, 3, 4, 0, 1, 2, 3, 4])\n",
      "ind2 tensor([1, 2, 3, 4, 0, 1, 2, 3, 4, 0])\n",
      "b tensor([1, 2, 3, 4, 0, 1, 2, 3, 4, 0])\n"
     ]
    }
   ],
   "source": [
    "a = torch.arange(start=0, end=10)\n",
    "print(a)\n",
    "\n",
    "ind1 = torch.arange(0, 10) % 5\n",
    "print(\"ind1\", ind1)\n",
    "\n",
    "b = a[ind1]\n",
    "print(\"b\", b)\n",
    "\n",
    "ind2 = torch.arange(1, 11) % 5\n",
    "print(\"ind2\", ind2) \n",
    "\n",
    "b = a[ind2]\n",
    "print(\"b\", b)"
   ]
  },
  {
   "cell_type": "markdown",
   "metadata": {
    "colab_type": "text",
    "id": "eQ4ZCVsTk-KH"
   },
   "source": [
    "What should we do if we have, say, rank-2-tensor and want to select only some rows?"
   ]
  },
  {
   "cell_type": "code",
   "execution_count": 19,
   "metadata": {
    "colab": {
     "base_uri": "https://localhost:8080/",
     "height": 136
    },
    "colab_type": "code",
    "id": "_GtRpotjkt1q",
    "outputId": "e4d621f9-61b2-4386-f349-f15e8c40e048"
   },
   "outputs": [
    {
     "name": "stdout",
     "output_type": "stream",
     "text": [
      "tensor([[0.8763, 0.2203, 0.2498],\n",
      "        [0.8839, 0.4836, 0.0688],\n",
      "        [0.4447, 0.1144, 0.4713],\n",
      "        [0.8688, 0.8801, 0.9459],\n",
      "        [0.3590, 0.4885, 0.6896]])\n",
      "tensor([[0.8763, 0.2203, 0.2498],\n",
      "        [0.4447, 0.1144, 0.4713]])\n"
     ]
    }
   ],
   "source": [
    "tensor = torch.rand((5, 3))\n",
    "rows = torch.tensor([0, 2])\n",
    "print(tensor)\n",
    "tensor = tensor[rows]\n",
    "print(tensor)"
   ]
  },
  {
   "cell_type": "markdown",
   "metadata": {
    "colab_type": "text",
    "id": "zIJnr_N2_Qaf"
   },
   "source": [
    "\n",
    "\n",
    "---\n",
    "\n",
    "## Question 8: \n",
    "\n",
    "Consider a tensor defined as `torch.rand((6, 5))`. Is the shape of the new tensor created by taking the 0th, 2nd and 4th row of the old tensor same as the shape of the a newer tensor created by taking the 0th, 2nd and 4th row of the old tensor after transposing it by operation `torch.transpose(tensor, 0, 1)` ?\n",
    "\n",
    "\n",
    "\n",
    "---\n",
    "\n",
    "\n"
   ]
  },
  {
   "cell_type": "code",
   "execution_count": 20,
   "metadata": {
    "colab": {
     "base_uri": "https://localhost:8080/",
     "height": 323
    },
    "colab_type": "code",
    "id": "VzHT4fqqrG-4",
    "outputId": "52bdeddb-e68a-4bd6-ff09-6820c1ec5e59"
   },
   "outputs": [
    {
     "name": "stdout",
     "output_type": "stream",
     "text": [
      "tensor([[0.5409, 0.8757, 0.1191, 0.3406, 0.1177],\n",
      "        [0.8088, 0.6254, 0.4733, 0.5987, 0.5287],\n",
      "        [0.8599, 0.9608, 0.9061, 0.1035, 0.4145],\n",
      "        [0.2484, 0.6849, 0.9527, 0.6856, 0.3083],\n",
      "        [0.5252, 0.9497, 0.6785, 0.9275, 0.8805],\n",
      "        [0.5146, 0.7463, 0.3711, 0.8025, 0.6825]])\n",
      "tensor([[0.5409, 0.8757, 0.1191, 0.3406, 0.1177],\n",
      "        [0.8599, 0.9608, 0.9061, 0.1035, 0.4145],\n",
      "        [0.5252, 0.9497, 0.6785, 0.9275, 0.8805]])\n",
      "transposed\n",
      "tensor([[0.5409, 0.8088, 0.8599, 0.2484, 0.5252, 0.5146],\n",
      "        [0.8757, 0.6254, 0.9608, 0.6849, 0.9497, 0.7463],\n",
      "        [0.1191, 0.4733, 0.9061, 0.9527, 0.6785, 0.3711],\n",
      "        [0.3406, 0.5987, 0.1035, 0.6856, 0.9275, 0.8025],\n",
      "        [0.1177, 0.5287, 0.4145, 0.3083, 0.8805, 0.6825]])\n",
      "tensor([[0.5409, 0.8088, 0.8599, 0.2484, 0.5252, 0.5146],\n",
      "        [0.1191, 0.4733, 0.9061, 0.9527, 0.6785, 0.3711],\n",
      "        [0.1177, 0.5287, 0.4145, 0.3083, 0.8805, 0.6825]])\n"
     ]
    }
   ],
   "source": [
    "tensor = torch.rand((6, 5))\n",
    "print(tensor)\n",
    "new1 = tensor[[0,2,4]]\n",
    "print(new1)\n",
    "temp_tensor = torch.transpose(tensor, 0, 1)\n",
    "print(\"transposed\")\n",
    "print(temp_tensor)\n",
    "new2 = temp_tensor[[0, 2, 4]]\n",
    "print(new2)"
   ]
  },
  {
   "cell_type": "markdown",
   "metadata": {
    "colab_type": "text",
    "id": "naDzFMkslU0b"
   },
   "source": [
    "## Tensor Shapes\n",
    "\n",
    "Reshaping a tensor is a frequently used operation. We can change the shape of a tensor without the memory copying overhead. There are two methods for that: `reshape` and `view`. \n",
    "\n",
    "The difference is the following: \n",
    "\n",
    "\n",
    "*   view tries to return a tensor, and it shares the same memory with the original tensor. In case, if it cannot reuse the same memory due to [some reason](https://pytorch.org/docs/stable/tensors.html?highlight=view#torch.Tensor.view), it just fails. \n",
    "*   reshape always returns the tensor with the desired shape and tries to reuse the memory. If it cannot, it creates a copy\n",
    "\n",
    "Let's see with the help of an example:"
   ]
  },
  {
   "cell_type": "code",
   "execution_count": 21,
   "metadata": {
    "colab": {
     "base_uri": "https://localhost:8080/",
     "height": 179
    },
    "colab_type": "code",
    "id": "HClDkqLLlMJh",
    "outputId": "703bf39f-96e5-4990-90bb-1b59b96a01fb"
   },
   "outputs": [
    {
     "name": "stdout",
     "output_type": "stream",
     "text": [
      "Pointer to data:  2453944294784\n",
      "Shape:  torch.Size([2, 3, 4])\n",
      "Reshaped tensor - pointer to data 2453944294784\n",
      "Reshaped tensor shape  torch.Size([24])\n",
      "Viewed tensor - pointer to data 2453944294784\n",
      "Viewed tensor shape  torch.Size([3, 2, 4])\n",
      "Original stride:  (12, 4, 1)\n",
      "Reshaped stride:  (1,)\n",
      "Viewed stride:  (8, 4, 1)\n"
     ]
    }
   ],
   "source": [
    "tensor = torch.rand(2, 3, 4)\n",
    "print('Pointer to data: ', tensor.data_ptr())\n",
    "print('Shape: ', tensor.shape)\n",
    "\n",
    "reshaped = tensor.reshape(24)\n",
    "\n",
    "view = tensor.view(3, 2, 4)\n",
    "print('Reshaped tensor - pointer to data', reshaped.data_ptr())\n",
    "print('Reshaped tensor shape ', reshaped.shape)\n",
    "\n",
    "print('Viewed tensor - pointer to data', view.data_ptr())\n",
    "print('Viewed tensor shape ', view.shape)\n",
    "\n",
    "assert tensor.data_ptr() == view.data_ptr()\n",
    "\n",
    "assert np.all(np.equal(tensor.numpy().flat, reshaped.numpy().flat))\n",
    "\n",
    "print('Original stride: ', tensor.stride())\n",
    "print('Reshaped stride: ', reshaped.stride())\n",
    "print('Viewed stride: ', view.stride())"
   ]
  },
  {
   "cell_type": "markdown",
   "metadata": {
    "colab_type": "text",
    "id": "jIN5jSppm4yC"
   },
   "source": [
    "The basic rule about reshaping the tensor is definitely that you cannot change the total number of elements in it, so the product of all tensor's dimensions should always be the same. It gives us the ability to avoid specifying one dimension when reshaping the tensor - Pytorch can calculate it for us:"
   ]
  },
  {
   "cell_type": "code",
   "execution_count": 22,
   "metadata": {
    "colab": {
     "base_uri": "https://localhost:8080/",
     "height": 71
    },
    "colab_type": "code",
    "id": "e3D19ERFmzOl",
    "outputId": "b49f6393-7a79-4da7-bb31-b5d8cd885e3a"
   },
   "outputs": [
    {
     "name": "stdout",
     "output_type": "stream",
     "text": [
      "torch.Size([3, 2, 4])\n",
      "torch.Size([3, 2, 4])\n",
      "torch.Size([3, 2, 4])\n"
     ]
    }
   ],
   "source": [
    "print(tensor.reshape(3, 2, 4).shape)\n",
    "print(tensor.reshape(3, 2, -1).shape)\n",
    "print(tensor.reshape(3, -1, 4).shape)"
   ]
  },
  {
   "cell_type": "markdown",
   "metadata": {
    "colab_type": "text",
    "id": "ObgCQKUiETak"
   },
   "source": [
    "\n",
    "\n",
    "---\n",
    "\n",
    "\n",
    "## Question 9:\n",
    "\n",
    "Consider a tensor `a` created with [1, 2, 3] and [1, 2, 3] of size (2, 3) is reshaped with operation `.reshape(-1, 2)`. Also consider a tensor `b` created with [[2, 1]] and of size (1, 2), later operated with `view(2, -1)` operation. \n",
    "\n",
    "If we do a dot product of a and b (using `torch.mm`) and perform the sum of all the elements (using `torch.sum`) what do we get? (enter int value without any decimal point in the quiz)\n",
    "\n",
    "\n",
    "\n",
    "---\n",
    "\n"
   ]
  },
  {
   "cell_type": "code",
   "execution_count": 23,
   "metadata": {
    "colab": {
     "base_uri": "https://localhost:8080/",
     "height": 102
    },
    "colab_type": "code",
    "id": "YpwkqVCauZxA",
    "outputId": "7d688d71-fe4f-428b-c235-c956552a7abd"
   },
   "outputs": [
    {
     "name": "stdout",
     "output_type": "stream",
     "text": [
      "torch.Size([2, 3])\n",
      "torch.Size([3, 2])\n",
      "torch.Size([1, 2])\n",
      "torch.Size([2, 1])\n"
     ]
    },
    {
     "data": {
      "text/plain": [
       "tensor(18)"
      ]
     },
     "execution_count": 23,
     "metadata": {},
     "output_type": "execute_result"
    }
   ],
   "source": [
    "a = torch.tensor([[1,2,3],[1,2,3]])\n",
    "print(a.shape)\n",
    "print(a.reshape(-1,2).shape)\n",
    "\n",
    "b = torch.tensor([[2,1]])\n",
    "print(b.shape)\n",
    "print(b.view(2,-1).shape)\n",
    "\n",
    "torch.sum(torch.mm(a.reshape(-1,2), b.view(2,-1)))"
   ]
  },
  {
   "cell_type": "markdown",
   "metadata": {
    "colab_type": "text",
    "id": "mza7QPg3ndeV"
   },
   "source": [
    "**Alternative ways to view tensors** - `expand` or `expand_as`.\n",
    "\n",
    "\n",
    "\n",
    "*   `expand` - requires the desired shape as an input\n",
    "*   `expand_as` - uses the shape of another tensor\n",
    "\n",
    "These operations \"repeat\" tensor's values along the specified axes without actually copying the data. \n",
    "\n",
    "As the documentation says, expand:\n",
    "\n",
    "\n",
    "> returns a new view of the self tensor with singleton dimensions expanded to a larger size. Tensor can be also expanded to a larger number of dimensions, and the new ones will be appended at the front. For the new dimensions, the size cannot be set to -1. \n",
    "\n",
    "**Use case:**\n",
    "\n",
    "\n",
    "\n",
    "*   index multi-channel tensor with single-channel mask - imagine a color image with 3 channels (RGB) and binary mask for the area of interest on that image. We cannot index the image with this kind of mask directly since the dimensions are different, but we can use `expand_as` operation to create a view of the mask that has the same dimensions as the image we want to apply it to, but has not copied the data. "
   ]
  },
  {
   "cell_type": "code",
   "execution_count": 24,
   "metadata": {
    "colab": {
     "base_uri": "https://localhost:8080/",
     "height": 595
    },
    "colab_type": "code",
    "id": "iz33E-V7nPQT",
    "outputId": "f9124ea4-fd07-4226-fc05-36df90c9dd33"
   },
   "outputs": [
    {
     "name": "stdout",
     "output_type": "stream",
     "text": [
      "torch.Size([3, 256, 256])\n"
     ]
    },
    {
     "data": {
      "image/png": "[encoded data removed]",
      "text/plain": [
       "<Figure size 432x288 with 2 Axes>"
      ]
     },
     "metadata": {
      "needs_background": "light"
     },
     "output_type": "display_data"
    },
    {
     "data": {
      "image/png": "[encoded data removed]",
      "text/plain": [
       "<Figure size 432x288 with 2 Axes>"
      ]
     },
     "metadata": {
      "needs_background": "light"
     },
     "output_type": "display_data"
    },
    {
     "data": {
      "image/png": "[encoded data removed]",
      "text/plain": [
       "<Figure size 432x288 with 2 Axes>"
      ]
     },
     "metadata": {
      "needs_background": "light"
     },
     "output_type": "display_data"
    }
   ],
   "source": [
    "%matplotlib inline\n",
    "from matplotlib import pyplot as plt\n",
    "\n",
    "# Create a black image\n",
    "image = torch.zeros(size=(3, 256, 256), dtype=torch.int)\n",
    "\n",
    "# Leave the borders and make the rest of the image Green\n",
    "image[1, 18:256 - 18, 18:256 - 18] = 255\n",
    "\n",
    "# Create a mask of the same size\n",
    "mask = torch.zeros(size=(256, 256), dtype=torch.bool)\n",
    "\n",
    "# Assuming the green region in the original image is the Region of interest, change the mask to white for that area\n",
    "mask[18:256 - 18, 18:256 - 18] = 1\n",
    "\n",
    "# Create a view of the mask with the same dimensions as the original image\n",
    "mask_expanded = mask.expand_as(image)\n",
    "print(mask_expanded.shape)\n",
    "\n",
    "mask_np = mask_expanded.numpy().transpose(1, 2, 0) * 255\n",
    "image_np = image.numpy().transpose(1, 2, 0)\n",
    "\n",
    "fig, ax = plt.subplots(1, 2)\n",
    "ax[0].imshow(image_np)\n",
    "ax[1].imshow(mask_np)\n",
    "plt.show()\n",
    "\n",
    "image[0, mask] += 128\n",
    "fig, ax = plt.subplots(1, 2)\n",
    "ax[0].imshow(image_np)\n",
    "ax[1].imshow(mask_np)\n",
    "plt.show()\n",
    "\n",
    "image[mask_expanded] += 128\n",
    "image.clamp_(0, 255)\n",
    "fig, ax = plt.subplots(1, 2)\n",
    "ax[0].imshow(image_np)\n",
    "ax[1].imshow(mask_np)\n",
    "plt.show()"
   ]
  },
  {
   "cell_type": "markdown",
   "metadata": {
    "colab_type": "text",
    "id": "jiXBx0k3ptOI"
   },
   "source": [
    "In the example above, one can also find a couple of useful tricks:\n",
    "\n",
    "\n",
    "*   `clamp` method and function is a Pytorch's analogue of NumPy's `clip` function\n",
    "*   many operations on tensors have in-place form, that does not return modified data, but change values in the tensor. The in-place version of the operation has trailing underscore according to Pytorch's naming convension - in the exmaple above it is `clamp_`\n",
    "*   tensors have the same indexing as Numpy's arrays - one can use `:` seperated range, negative indexes and so on.\n",
    "\n",
    "\n",
    ".\n",
    "\n",
    "\n",
    "---\n",
    "\n",
    "# Images and their representations\n",
    "\n",
    "Now, let's discuss images, their representations and how different Python librarties work with them. \n",
    "\n",
    "Probably, the most well-known library for image loading and simple processing is [Pillow](https://pillow.readthedocs.io/en/stable/). \n",
    "\n",
    "However, many people in deep learning area stick with OpenCV for image loading and processing with some usage of another libraries when it is justified by performance/functionality. This is because OpenCV is in general much faster than the other libraries. Here you can find a couple of benchmarks: \n",
    "\n",
    "*   https://www.kaggle.com/zfturbo/benchmark-2019-speed-of-image-reading\n",
    "*   https://github.com/albumentations-team/albumentations#benchmarking-results\n",
    "\n",
    "To sum up the benchmarks above, there are two most common image formats, PNG and JPEGs. If your data is in PNG format - use OpenCV to read it. If it is in JPEG - use libturbojpeg. For image processing, use OpenCV if possible. _We will be using PIL a lot along with these._\n",
    "\n",
    "As you will read the code from others, you may find out that some of them use Pillow/something else to read data. You should know, that color image representations in OpenCV and other libraries are different - OpenCV uses \"BGR\" channel order, while others use \"RGB\" one. \n",
    "\n",
    "To change \"BRG\" <-> \"RGB\" the only thing we need to do it to change channel order."
   ]
  },
  {
   "cell_type": "code",
   "execution_count": 25,
   "metadata": {
    "colab": {
     "base_uri": "https://localhost:8080/",
     "height": 232
    },
    "colab_type": "code",
    "id": "ZYv4sZMmpndu",
    "outputId": "4bf1d2a0-c4d6-4808-ec9e-b403fbf2c5ca"
   },
   "outputs": [
    {
     "data": {
      "image/png": "[encoded data removed]",
      "text/plain": [
       "<Figure size 432x288 with 2 Axes>"
      ]
     },
     "metadata": {
      "needs_background": "light"
     },
     "output_type": "display_data"
    }
   ],
   "source": [
    "%matplotlib inline\n",
    "from matplotlib import pyplot as plt\n",
    "import cv2\n",
    "\n",
    "\n",
    "bgr_image = cv2.imread('mars.jpg') \n",
    "# remember to add your own image in case you run this block, if you want to use the same image, \n",
    "# download it from: https://encrypted-tbn0.gstatic.com/images?q=tbn%3AANd9GcRCA40ftnscVzfV8ft8e7vIzQXfXeZdtco8nknJrfCUW6INI40U\n",
    "rgb_image = bgr_image[..., ::-1]\n",
    "fig, ax = plt.subplots(1, 2)\n",
    "ax[0].imshow(bgr_image)\n",
    "ax[1].imshow(rgb_image)\n",
    "plt.show()"
   ]
  },
  {
   "cell_type": "code",
   "execution_count": 30,
   "metadata": {
    "colab": {
     "base_uri": "https://localhost:8080/",
     "height": 164
    },
    "colab_type": "code",
    "id": "Ev-14NMLyTkv",
    "outputId": "e9c8f44e-9df9-43a8-b58c-e81d11000ad1"
   },
   "outputs": [
    {
     "data": {
      "image/png": "[encoded data removed]",
      "text/plain": [
       "<Figure size 432x288 with 1 Axes>"
      ]
     },
     "metadata": {
      "needs_background": "light"
     },
     "output_type": "display_data"
    }
   ],
   "source": [
    "import cv2\n",
    "import numpy as np\n",
    "from matplotlib import pyplot as plt\n",
    "\n",
    "color = ('r','g','b')\n",
    "for i,col in enumerate(color):\n",
    "    histr = cv2.calcHist([rgb_image],[i],None,[256],[0,256])\n",
    "    plt.plot(histr,color = col)\n",
    "    plt.xlim([0,20])\n",
    "plt.show()"
   ]
  },
  {
   "cell_type": "markdown",
   "metadata": {
    "colab_type": "text",
    "id": "yoi4TeNBGHle"
   },
   "source": [
    "\n",
    "\n",
    "---\n",
    "\n",
    "## Question 10:\n",
    "\n",
    "Looking at the results above it can be said that the pixel values in the blue channels would be very small compared to red channel. True/False?\n",
    "\n",
    "\n",
    "---\n",
    "\n",
    "\n"
   ]
  },
  {
   "cell_type": "code",
   "execution_count": null,
   "metadata": {},
   "outputs": [],
   "source": [
    "False"
   ]
  },
  {
   "cell_type": "markdown",
   "metadata": {
    "colab_type": "text",
    "id": "b3ugFd57zNwa"
   },
   "source": [
    "# Autograd\n",
    "\n",
    "Pytorch supports automatic differentiation. The module which implements this is called **AutoGrad**. It calculates the gradients and keeps track in forward and backward passes. For primitive tensors, you need to enable or disable it using the `required_grad` flag. But, for advanced tensors, it is enabled by default"
   ]
  },
  {
   "cell_type": "code",
   "execution_count": 31,
   "metadata": {
    "colab": {
     "base_uri": "https://localhost:8080/",
     "height": 197
    },
    "colab_type": "code",
    "id": "VMOp4aiou6JR",
    "outputId": "e9a22acd-21b1-427d-c1c0-90302bc1c37a"
   },
   "outputs": [
    {
     "name": "stdout",
     "output_type": "stream",
     "text": [
      "tensor([[0.5076, 0.1993, 0.1266, 0.0308, 0.7055],\n",
      "        [0.4155, 0.8445, 0.4347, 0.7035, 0.1490],\n",
      "        [0.3641, 0.9469, 0.8411, 0.7839, 0.2220]], requires_grad=True)\n",
      "tensor([[2.5380, 0.9967, 0.6331, 0.1540, 3.5274],\n",
      "        [2.0775, 4.2223, 2.1733, 3.5176, 0.7451],\n",
      "        [1.8203, 4.7343, 4.2056, 3.9196, 1.1101]], grad_fn=<MulBackward0>)\n",
      "tensor(36.3749, grad_fn=<SumBackward0>)\n",
      "tensor([[5., 5., 5., 5., 5.],\n",
      "        [5., 5., 5., 5., 5.],\n",
      "        [5., 5., 5., 5., 5.]])\n"
     ]
    }
   ],
   "source": [
    "a = torch.rand((3, 5), requires_grad = True)\n",
    "print(a)\n",
    "result = a * 5\n",
    "print(result)\n",
    "\n",
    "# grad can be implicitly created only for scalar outputs\n",
    "# so let's calculate the sum here so that the output becomes a scalar and we can apply a backward pass\n",
    "mean_result = result.sum()\n",
    "print(mean_result)\n",
    "# calculate gradient\n",
    "mean_result.backward()\n",
    "# print gradient of a\n",
    "print(a.grad)"
   ]
  },
  {
   "cell_type": "markdown",
   "metadata": {
    "colab_type": "text",
    "id": "ym0Amk2IGfLx"
   },
   "source": [
    "\n",
    "\n",
    "---\n",
    "\n",
    "## Question 11: \n",
    "\n",
    "Why the gradient of a is all 5s above?\n",
    "\n",
    "\n",
    "\n",
    "---\n",
    "\n"
   ]
  },
  {
   "cell_type": "markdown",
   "metadata": {},
   "source": [
    "Because, the function a * 5 is differentiated by a which results tensor with 5 in all places since that is a pointwise(scalar) multiplication."
   ]
  },
  {
   "cell_type": "markdown",
   "metadata": {
    "colab_type": "text",
    "id": "7PDgGq2R0k7I"
   },
   "source": [
    "As we see, Pytorch automagically calculated the gradient value for us. It looks to be the correct value - we multiplied an input by 5, so the gradient of this operation equals to 5.\n",
    "\n",
    "# Disabling Autograd for tensors\n",
    "\n",
    "We don't need to compute gradients for all the variables that are involved in the pipeline. The Pytorch API provides 2 ways to disable autograd.\n",
    "\n",
    "`detach` - returns a copy of the tensor with autograd disabled. This \n",
    "\n",
    "1.   copy is built on the same memory as the original tensor, so in-place size / stride / storage changes (such as resize_ / resizeas / set / transpose) modifications are not allowed.\n",
    "2.   torch.no_grad() - It is a context manager that allows you to guard a series of operations from autograd without creating new tensors."
   ]
  },
  {
   "cell_type": "code",
   "execution_count": 33,
   "metadata": {
    "colab": {
     "base_uri": "https://localhost:8080/",
     "height": 71
    },
    "colab_type": "code",
    "id": "yqVG9fQb0cLW",
    "outputId": "2081f403-31a2-4296-c670-b899e246a8cc"
   },
   "outputs": [
    {
     "data": {
      "text/plain": [
       "tensor([[10., 10., 10., 10., 10.],\n",
       "        [10., 10., 10., 10., 10.],\n",
       "        [10., 10., 10., 10., 10.]])"
      ]
     },
     "execution_count": 33,
     "metadata": {},
     "output_type": "execute_result"
    }
   ],
   "source": [
    "a = torch.rand((3, 5), requires_grad=True)\n",
    "detached_a = a.detach()\n",
    "detached_result = detached_a * 5\n",
    "result = a * 10\n",
    "# we cannot do backward pass that is required for autograd using multideminsional output,\n",
    "# so let's calculate the sum here\n",
    "mean_result = result.sum()\n",
    "mean_result.backward()\n",
    "a.grad"
   ]
  },
  {
   "cell_type": "code",
   "execution_count": 77,
   "metadata": {
    "colab": {
     "base_uri": "https://localhost:8080/",
     "height": 71
    },
    "colab_type": "code",
    "id": "uqpch2Be02J7",
    "outputId": "0a5ee8e8-81b8-46f0-c7fc-ac406657e928"
   },
   "outputs": [
    {
     "data": {
      "text/plain": [
       "tensor([[10., 10., 10., 10., 10.],\n",
       "        [10., 10., 10., 10., 10.],\n",
       "        [10., 10., 10., 10., 10.]])"
      ]
     },
     "execution_count": 77,
     "metadata": {},
     "output_type": "execute_result"
    }
   ],
   "source": [
    "a = torch.rand((3, 5), requires_grad=True)\n",
    "with torch.no_grad():\n",
    "    detached_result = a * 5\n",
    "result = a * 10\n",
    "# we cannot do backward pass that is required for autograd using multideminsional output,\n",
    "# so let's calculate the sum here\n",
    "mean_result = result.sum()\n",
    "mean_result.backward()\n",
    "a.grad"
   ]
  },
  {
   "cell_type": "markdown",
   "metadata": {
    "colab_type": "text",
    "id": "vjh2rYOPJUAZ"
   },
   "source": [
    "# Custom Network\n",
    "\n",
    "A fully-connected ReLU network with one hidden layer and no biases, trained to predict y from x by minimizing squared Euclidean distance.\n",
    "\n",
    "This implementation uses PyTorch tensors to manually compute the forward pass, loss, and backward pass.\n",
    "\n",
    "A PyTorch Tensor is basically the same as a numpy array: it does not know anything about deep learning or computational graphs or gradients, and is just a generic n-dimensional array to be used for arbitrary numeric computation.\n",
    "\n",
    "The biggest difference between a numpy array and a PyTorch Tensor is that a PyTorch Tensor can run on either CPU or GPU. To run operations on the GPU, just cast the Tensor to a cuda datatype."
   ]
  },
  {
   "cell_type": "code",
   "execution_count": 84,
   "metadata": {
    "colab": {
     "base_uri": "https://localhost:8080/",
     "height": 1000
    },
    "colab_type": "code",
    "id": "0nf5RaB104Vp",
    "outputId": "c0829682-3be1-4709-dff8-2e4d2bc59e53"
   },
   "outputs": [
    {
     "name": "stdout",
     "output_type": "stream",
     "text": [
      "0 26814990.0\n",
      "1 22161376.0\n",
      "2 22304444.0\n",
      "3 23938078.0\n",
      "4 24363852.0\n",
      "5 21931536.0\n",
      "6 16717548.0\n",
      "7 10944704.0\n",
      "8 6418833.0\n",
      "9 3639837.25\n",
      "10 2119966.0\n",
      "11 1331774.125\n",
      "12 915639.375\n",
      "13 684021.375\n",
      "14 543233.125\n",
      "15 449276.15625\n",
      "16 381070.5625\n",
      "17 328286.34375\n",
      "18 285669.78125\n",
      "19 250262.4375\n",
      "20 220315.15625\n",
      "21 194744.484375\n",
      "22 172732.78125\n",
      "23 153667.75\n",
      "24 137058.015625\n",
      "25 122518.921875\n",
      "26 109760.546875\n",
      "27 98527.5\n",
      "28 88605.875\n",
      "29 79826.875\n",
      "30 72031.25\n",
      "31 65091.9453125\n",
      "32 58910.82421875\n",
      "33 53385.40234375\n",
      "34 48440.68359375\n",
      "35 44004.06640625\n",
      "36 40017.83203125\n",
      "37 36432.6875\n",
      "38 33202.15234375\n",
      "39 30286.861328125\n",
      "40 27653.03515625\n",
      "41 25271.369140625\n",
      "42 23117.0703125\n",
      "43 21165.37109375\n",
      "44 19393.458984375\n",
      "45 17783.330078125\n",
      "46 16318.578125\n",
      "47 14985.05078125\n",
      "48 13769.6015625\n",
      "49 12661.21875\n",
      "50 11649.31640625\n",
      "51 10724.888671875\n",
      "52 9879.474609375\n",
      "53 9105.7255859375\n",
      "54 8397.4892578125\n",
      "55 7748.353515625\n",
      "56 7153.1787109375\n",
      "57 6607.1083984375\n",
      "58 6105.80908203125\n",
      "59 5645.32666015625\n",
      "60 5222.11474609375\n",
      "61 4832.85791015625\n",
      "62 4474.61767578125\n",
      "63 4144.740234375\n",
      "64 3840.87646484375\n",
      "65 3560.8828125\n",
      "66 3302.533203125\n",
      "67 3064.15869140625\n",
      "68 2844.030029296875\n",
      "69 2640.748779296875\n",
      "70 2452.87646484375\n",
      "71 2279.20458984375\n",
      "72 2118.58203125\n",
      "73 1969.9381103515625\n",
      "74 1832.3668212890625\n",
      "75 1704.97412109375\n",
      "76 1586.9344482421875\n",
      "77 1477.55908203125\n",
      "78 1376.25830078125\n",
      "79 1282.6607666015625\n",
      "80 1195.85595703125\n",
      "81 1115.2109375\n",
      "82 1040.3154296875\n",
      "83 970.7611694335938\n",
      "84 906.1546630859375\n",
      "85 846.0601806640625\n",
      "86 790.168212890625\n",
      "87 738.1734008789062\n",
      "88 689.818115234375\n",
      "89 644.783447265625\n",
      "90 602.8370361328125\n",
      "91 563.7611694335938\n",
      "92 527.3551025390625\n",
      "93 493.4222717285156\n",
      "94 461.79107666015625\n",
      "95 432.2939453125\n",
      "96 404.7625732421875\n",
      "97 379.07061767578125\n",
      "98 355.1075744628906\n",
      "99 332.71881103515625\n",
      "100 311.806396484375\n",
      "101 292.279541015625\n",
      "102 274.0289306640625\n",
      "103 256.98077392578125\n",
      "104 241.03443908691406\n",
      "105 226.126708984375\n",
      "106 212.18417358398438\n",
      "107 199.1425323486328\n",
      "108 186.93325805664062\n",
      "109 175.50698852539062\n",
      "110 164.81790161132812\n",
      "111 154.80430603027344\n",
      "112 145.42587280273438\n",
      "113 136.64077758789062\n",
      "114 128.41607666015625\n",
      "115 120.71105194091797\n",
      "116 113.48521423339844\n",
      "117 106.7104721069336\n",
      "118 100.35595703125\n",
      "119 94.40332794189453\n",
      "120 88.81072998046875\n",
      "121 83.56561279296875\n",
      "122 78.64207458496094\n",
      "123 74.02102661132812\n",
      "124 69.6805191040039\n",
      "125 65.60797882080078\n",
      "126 61.78080368041992\n",
      "127 58.18455505371094\n",
      "128 54.806602478027344\n",
      "129 51.633365631103516\n",
      "130 48.65009689331055\n",
      "131 45.84590530395508\n",
      "132 43.2091178894043\n",
      "133 40.72868728637695\n",
      "134 38.39799499511719\n",
      "135 36.20379638671875\n",
      "136 34.14027404785156\n",
      "137 32.19887161254883\n",
      "138 30.37067985534668\n",
      "139 28.650941848754883\n",
      "140 27.030616760253906\n",
      "141 25.50759506225586\n",
      "142 24.071117401123047\n",
      "143 22.71969223022461\n",
      "144 21.44651985168457\n",
      "145 20.246665954589844\n",
      "146 19.116249084472656\n",
      "147 18.051830291748047\n",
      "148 17.04811668395996\n",
      "149 16.10105323791504\n",
      "150 15.209643363952637\n",
      "151 14.368522644042969\n",
      "152 13.575543403625488\n",
      "153 12.827929496765137\n",
      "154 12.122693061828613\n",
      "155 11.456981658935547\n",
      "156 10.829553604125977\n",
      "157 10.237600326538086\n",
      "158 9.679088592529297\n",
      "159 9.151302337646484\n",
      "160 8.653310775756836\n",
      "161 8.183728218078613\n",
      "162 7.7399187088012695\n",
      "163 7.321327209472656\n",
      "164 6.925746917724609\n",
      "165 6.552091598510742\n",
      "166 6.199302673339844\n",
      "167 5.86632776260376\n",
      "168 5.551346302032471\n",
      "169 5.253776550292969\n",
      "170 4.972769737243652\n",
      "171 4.706904411315918\n",
      "172 4.4564361572265625\n",
      "173 4.218715667724609\n",
      "174 3.994534492492676\n",
      "175 3.7824923992156982\n",
      "176 3.5819921493530273\n",
      "177 3.392620325088501\n",
      "178 3.213408946990967\n",
      "179 3.043647050857544\n",
      "180 2.8831937313079834\n",
      "181 2.731752872467041\n",
      "182 2.5881764888763428\n",
      "183 2.4524292945861816\n",
      "184 2.324089527130127\n",
      "185 2.2022788524627686\n",
      "186 2.087430477142334\n",
      "187 1.978514552116394\n",
      "188 1.875316858291626\n",
      "189 1.7779302597045898\n",
      "190 1.6856415271759033\n",
      "191 1.5981714725494385\n",
      "192 1.5153367519378662\n",
      "193 1.4368215799331665\n",
      "194 1.3626495599746704\n",
      "195 1.2922463417053223\n",
      "196 1.225639820098877\n",
      "197 1.1627267599105835\n",
      "198 1.1029558181762695\n",
      "199 1.0461785793304443\n",
      "200 0.9926536679267883\n",
      "201 0.9417629837989807\n",
      "202 0.89347904920578\n",
      "203 0.8479269742965698\n",
      "204 0.8046867251396179\n",
      "205 0.7635550498962402\n",
      "206 0.7247841358184814\n",
      "207 0.6878781914710999\n",
      "208 0.6529696583747864\n",
      "209 0.6197444200515747\n",
      "210 0.5883894562721252\n",
      "211 0.5586599111557007\n",
      "212 0.530455470085144\n",
      "213 0.5035520792007446\n",
      "214 0.4782640337944031\n",
      "215 0.45419371128082275\n",
      "216 0.4313466548919678\n",
      "217 0.40970444679260254\n",
      "218 0.38915032148361206\n",
      "219 0.3696841895580292\n",
      "220 0.3511004149913788\n",
      "221 0.3335997462272644\n",
      "222 0.3168918192386627\n",
      "223 0.30118972063064575\n",
      "224 0.2861560583114624\n",
      "225 0.27190878987312317\n",
      "226 0.2583615183830261\n",
      "227 0.24552585184574127\n",
      "228 0.23338089883327484\n",
      "229 0.2217719405889511\n",
      "230 0.21077799797058105\n",
      "231 0.20036262273788452\n",
      "232 0.1904626488685608\n",
      "233 0.1810002475976944\n",
      "234 0.172110915184021\n",
      "235 0.16366814076900482\n",
      "236 0.1556183248758316\n",
      "237 0.1479380875825882\n",
      "238 0.1406746208667755\n",
      "239 0.1337544322013855\n",
      "240 0.12718051671981812\n",
      "241 0.12096230685710907\n",
      "242 0.1150640994310379\n",
      "243 0.10942906141281128\n",
      "244 0.10406303405761719\n",
      "245 0.09898557513952255\n",
      "246 0.09417083859443665\n",
      "247 0.08958780765533447\n",
      "248 0.08521856367588043\n",
      "249 0.08107837289571762\n",
      "250 0.07714615762233734\n",
      "251 0.07338696718215942\n",
      "252 0.06982429325580597\n",
      "253 0.06644994020462036\n",
      "254 0.06320282071828842\n",
      "255 0.06016680598258972\n",
      "256 0.057271428406238556\n",
      "257 0.05453014373779297\n",
      "258 0.051878608763217926\n",
      "259 0.04938063025474548\n",
      "260 0.047011010348796844\n",
      "261 0.04474771022796631\n",
      "262 0.04260755702853203\n",
      "263 0.04056315869092941\n",
      "264 0.03862440586090088\n",
      "265 0.036768507212400436\n",
      "266 0.03500653803348541\n",
      "267 0.033318109810352325\n",
      "268 0.03174541890621185\n",
      "269 0.03021935746073723\n",
      "270 0.028790529817342758\n",
      "271 0.02742166630923748\n",
      "272 0.02612103894352913\n",
      "273 0.02487020008265972\n",
      "274 0.023702435195446014\n",
      "275 0.02257513254880905\n",
      "276 0.0215162243694067\n",
      "277 0.020508695393800735\n",
      "278 0.019539615139365196\n",
      "279 0.018610617145895958\n",
      "280 0.01774112693965435\n",
      "281 0.016901787370443344\n",
      "282 0.016115427017211914\n",
      "283 0.015364464372396469\n",
      "284 0.014637088403105736\n",
      "285 0.013957221060991287\n",
      "286 0.013316609896719456\n",
      "287 0.01269594021141529\n",
      "288 0.012106461450457573\n",
      "289 0.011535636149346828\n",
      "290 0.01099981926381588\n",
      "291 0.010500464588403702\n",
      "292 0.01002057921141386\n",
      "293 0.009554699063301086\n",
      "294 0.009110748767852783\n",
      "295 0.008699724450707436\n",
      "296 0.008312739431858063\n",
      "297 0.007934601977467537\n",
      "298 0.0075738998129963875\n",
      "299 0.007228008471429348\n",
      "300 0.0069074248895049095\n",
      "301 0.006591258570551872\n",
      "302 0.0062990146689116955\n",
      "303 0.006021823268383741\n",
      "304 0.005749796517193317\n",
      "305 0.005498881917446852\n",
      "306 0.005257945507764816\n",
      "307 0.005025915335863829\n",
      "308 0.004805663600564003\n",
      "309 0.00459362892434001\n",
      "310 0.004390993621200323\n",
      "311 0.004201408475637436\n",
      "312 0.004021539818495512\n",
      "313 0.003845308208838105\n",
      "314 0.0036776824854314327\n",
      "315 0.003526615910232067\n",
      "316 0.003380078822374344\n",
      "317 0.0032338635064661503\n",
      "318 0.003097224049270153\n",
      "319 0.0029665171168744564\n",
      "320 0.0028451934922486544\n",
      "321 0.0027269183192402124\n",
      "322 0.0026135023217648268\n",
      "323 0.0025119585916399956\n",
      "324 0.0024063705932348967\n",
      "325 0.002307317452505231\n",
      "326 0.0022150855511426926\n",
      "327 0.002127071376889944\n",
      "328 0.0020434209145605564\n",
      "329 0.0019598109647631645\n",
      "330 0.0018819852266460657\n",
      "331 0.0018111328827217221\n",
      "332 0.0017373284790664911\n",
      "333 0.0016685471637174487\n",
      "334 0.0016050753183662891\n",
      "335 0.0015434140805155039\n",
      "336 0.001483648899011314\n",
      "337 0.0014279389288276434\n",
      "338 0.001376570318825543\n",
      "339 0.0013237581588327885\n",
      "340 0.001277140574529767\n",
      "341 0.0012299844529479742\n",
      "342 0.0011869986774399877\n",
      "343 0.001144062029197812\n",
      "344 0.0011004484258592129\n",
      "345 0.0010624536080285907\n",
      "346 0.0010251245694234967\n",
      "347 0.0009913344401866198\n",
      "348 0.0009561077458783984\n",
      "349 0.0009232301963493228\n",
      "350 0.0008928389870561659\n",
      "351 0.0008614118560217321\n",
      "352 0.0008316515013575554\n",
      "353 0.0008036887156777084\n",
      "354 0.0007772910175845027\n",
      "355 0.0007512703887186944\n",
      "356 0.0007263796287588775\n",
      "357 0.0007037766627036035\n",
      "358 0.0006813019281253219\n",
      "359 0.0006595799350179732\n",
      "360 0.0006393320509232581\n",
      "361 0.0006194409215822816\n",
      "362 0.0006003528251312673\n",
      "363 0.000581474625505507\n",
      "364 0.0005632223910652101\n",
      "365 0.0005465799476951361\n",
      "366 0.0005299443146213889\n",
      "367 0.0005140131106600165\n",
      "368 0.000498372595757246\n",
      "369 0.000484813645016402\n",
      "370 0.0004710434877779335\n",
      "371 0.00045693526044487953\n",
      "372 0.0004427330568432808\n",
      "373 0.00043008429929614067\n",
      "374 0.00041766095091588795\n",
      "375 0.0004068361595273018\n",
      "376 0.00039514328818768263\n",
      "377 0.0003834089729934931\n",
      "378 0.0003735948703251779\n",
      "379 0.00036318798083812\n",
      "380 0.00035311299143359065\n",
      "381 0.0003438450221437961\n",
      "382 0.0003345774603076279\n",
      "383 0.0003263411344960332\n",
      "384 0.0003172084398102015\n",
      "385 0.00030986746423877776\n",
      "386 0.00030090156360529363\n",
      "387 0.00029369184630922973\n",
      "388 0.000286155758658424\n",
      "389 0.0002791518345475197\n",
      "390 0.0002723167999647558\n",
      "391 0.00026550740585662425\n",
      "392 0.0002587227791082114\n",
      "393 0.0002530503843445331\n",
      "394 0.0002465972793288529\n",
      "395 0.00024010735796764493\n",
      "396 0.00023397596669383347\n",
      "397 0.0002282537752762437\n",
      "398 0.0002229546953458339\n",
      "399 0.00021779467351734638\n",
      "400 0.0002123078884324059\n",
      "401 0.0002074083749903366\n",
      "402 0.0002023379347519949\n",
      "403 0.00019837099534925073\n",
      "404 0.0001943994575412944\n",
      "405 0.00019002569024451077\n",
      "406 0.00018579977040644735\n",
      "407 0.0001819926401367411\n",
      "408 0.00017795841267798096\n",
      "409 0.00017381011275574565\n",
      "410 0.0001702270092209801\n",
      "411 0.0001663963048486039\n",
      "412 0.00016291392967104912\n",
      "413 0.00015944617916829884\n",
      "414 0.0001561633253004402\n",
      "415 0.00015346790314652026\n",
      "416 0.00015013152733445168\n",
      "417 0.00014691462274640799\n",
      "418 0.00014390591240953654\n",
      "419 0.00014099098916631192\n",
      "420 0.00013820824096910655\n",
      "421 0.00013520283391699195\n",
      "422 0.00013216248771641403\n",
      "423 0.0001295370311709121\n",
      "424 0.00012705204426310956\n",
      "425 0.00012470531510189176\n",
      "426 0.00012223017984069884\n",
      "427 0.00012024866009596735\n",
      "428 0.00011771362915169448\n",
      "429 0.00011553418880794197\n",
      "430 0.0001134396661655046\n",
      "431 0.00011168853961862624\n",
      "432 0.00010957811900880188\n",
      "433 0.00010770595690701157\n",
      "434 0.00010556720371823758\n",
      "435 0.00010367865615990013\n",
      "436 0.00010151309834327549\n",
      "437 0.00010023963841376826\n",
      "438 9.855263488134369e-05\n",
      "439 9.724824485601857e-05\n",
      "440 9.548974048811942e-05\n",
      "441 9.396395762450993e-05\n",
      "442 9.217741899192333e-05\n"
     ]
    },
    {
     "name": "stdout",
     "output_type": "stream",
     "text": [
      "443 9.075612615561113e-05\n",
      "444 8.902360423235223e-05\n",
      "445 8.782826625974849e-05\n",
      "446 8.668214286444709e-05\n",
      "447 8.503262506565079e-05\n",
      "448 8.348283154191449e-05\n",
      "449 8.215155685320497e-05\n",
      "450 8.120801066979766e-05\n",
      "451 8.002699178177863e-05\n",
      "452 7.879202166805044e-05\n",
      "453 7.720519352005795e-05\n",
      "454 7.624408317497e-05\n",
      "455 7.532630843343213e-05\n",
      "456 7.434551662299782e-05\n",
      "457 7.287937478395179e-05\n",
      "458 7.18643786967732e-05\n",
      "459 7.102439121808857e-05\n",
      "460 7.007649401202798e-05\n",
      "461 6.91352179273963e-05\n",
      "462 6.793480861233547e-05\n",
      "463 6.717779615428299e-05\n",
      "464 6.606556416954845e-05\n",
      "465 6.502141332020983e-05\n",
      "466 6.405870226444677e-05\n",
      "467 6.30973736406304e-05\n",
      "468 6.241200026124716e-05\n",
      "469 6.144939106889069e-05\n",
      "470 6.081008177716285e-05\n",
      "471 5.968811456114054e-05\n",
      "472 5.900389078306034e-05\n",
      "473 5.8227728004567325e-05\n",
      "474 5.762717773905024e-05\n",
      "475 5.683349445462227e-05\n",
      "476 5.5864427849883214e-05\n",
      "477 5.546909596887417e-05\n",
      "478 5.4888660088181496e-05\n",
      "479 5.409613004303537e-05\n",
      "480 5.356152541935444e-05\n",
      "481 5.2781706472160295e-05\n",
      "482 5.2131537813693285e-05\n",
      "483 5.169227733858861e-05\n",
      "484 5.093975778436288e-05\n",
      "485 5.031888940720819e-05\n",
      "486 4.974928015144542e-05\n",
      "487 4.919163984595798e-05\n",
      "488 4.87275465275161e-05\n",
      "489 4.816267028218135e-05\n",
      "490 4.734944741358049e-05\n",
      "491 4.700233694165945e-05\n",
      "492 4.630613693734631e-05\n",
      "493 4.568360236589797e-05\n",
      "494 4.516068293014541e-05\n",
      "495 4.446696402737871e-05\n",
      "496 4.392634582472965e-05\n",
      "497 4.345144043327309e-05\n",
      "498 4.303438981878571e-05\n",
      "499 4.272835576557554e-05\n"
     ]
    }
   ],
   "source": [
    "dtype = torch.float\n",
    "device = torch.device(\"cpu\")\n",
    "# device = torch.device(\"cuda:0\") # Uncomment this to run on GPU\n",
    "\n",
    "# N is batch size; D_in is input dimension;\n",
    "# H is hidden dimension; D_out is output dimension.\n",
    "N, D_in, H, D_out = 64, 1000, 100, 10\n",
    "\n",
    "# Create random input and output data\n",
    "x = torch.randn(N, D_in, device=device, dtype=dtype)\n",
    "y = torch.randn(N, D_out, device=device, dtype=dtype)\n",
    "\n",
    "# Randomly initialize weights\n",
    "w1 = torch.randn(D_in, H, device=device, dtype=dtype)\n",
    "w2 = torch.randn(H, D_out, device=device, dtype=dtype)\n",
    "\n",
    "learning_rate = 1e-6\n",
    "for t in range(500):\n",
    "    # Forward pass: compute predicted y\n",
    "    h = x.mm(w1)\n",
    "    h_relu = h.clamp(min=0)\n",
    "    y_pred = h_relu.mm(w2)\n",
    "\n",
    "    # Compute and print loss\n",
    "    loss = (y_pred - y).pow(2).sum().item()\n",
    "    print(t, loss)\n",
    "\n",
    "    # Backprop to compute gradients of w1 and w2 with respect to loss\n",
    "    grad_y_pred = 2*(y_pred - y)\n",
    "    grad_w2 = h_relu.t().mm(grad_y_pred)\n",
    "    grad_h_relu = grad_y_pred.mm(w2.t())\n",
    "    grad_h = grad_h_relu.clone()\n",
    "    grad_h[h < 0] = 0\n",
    "    grad_w1 = x.t().mm(grad_h)\n",
    "\n",
    "    # Update weights using gradient descent\n",
    "    w1 -= learning_rate * grad_w1\n",
    "    w2 -= learning_rate * grad_w2"
   ]
  },
  {
   "cell_type": "markdown",
   "metadata": {
    "colab_type": "text",
    "id": "ycwxAPHZLNST"
   },
   "source": [
    "\n",
    "\n",
    "---\n",
    "## Question 12\n",
    "\n",
    "In the code above, why do we have 2 in '2.0*(y_pred - y)`?\n",
    "\n",
    "gradient of (y_pred - y)^2\n",
    "\n",
    "## Question 13\n",
    "In the code above, what does `grad_h[h < 0] = 0` signify?"
   ]
  },
  {
   "cell_type": "markdown",
   "metadata": {},
   "source": [
    "[64 x 1000]  -->  [64 x 1000] * w1[1000 x 100] --> [64 x 100]relu --> [64 x 100] --> [64 x 100] * w2[100 x 10] --> [64 x 10]\n",
    "\n",
    " input1                   forward1                     relu             input2                forward2              output    \n",
    "\n",
    "step 1\n",
    "\n",
    "delta_w2 = [100 x 64] (input2 transpose) * [64 x 10] (gradient) = [100 x 10]\n",
    "\n",
    "step 2\n",
    "\n",
    "back1 = [64 x 10] (gradient) * [10 x 100] (w2 transpose) = [64 x 100]\n",
    "\n",
    "if there was no relu then -->  [1000 x 64] (input1 transpose) * [64 x 100] (back1) will give the delta_w1 [1000 x 100]\n",
    "\n",
    "But since we have ReLU which filters any negative values we should not update the weights that results in negative values during forward1 ([64 x 1000] * w1[1000 x 100]), by making the gradients(back1) to zero in the index positions where the forward1 resulted in negative values, we effectively allow the gradients to pass via ReLU i.e. f'(0) = 0 , f'(x) = x.\n",
    "\n",
    "After the above step\n",
    "\n",
    "delta_w1 = [1000 x 64] (input1 transpose) * [64 x 100] (back1) = [1000 x 100] "
   ]
  },
  {
   "cell_type": "markdown",
   "metadata": {},
   "source": [
    "\n",
    "## Question 14\n",
    "In the code above, how many \"epochs\" have we trained the model for? \n",
    "\n",
    "500\n",
    "\n",
    "## Question 15\n",
    "In the code above, if we take the trained model, and run it on fresh  inputs, the trained model will be able to predict fresh output with high accuracy.\n",
    "\n",
    "May or May Not, Since we have no validation data to ensure that the model would perform on new inputs\n",
    "\n",
    "## Question 16\n",
    "In the code above, if we dont use clone in `grad_h = grad_h_relu.clone()` the model will still train without any issues. \n",
    "\n",
    "In this example it will train because the gradient is calculated manually and the Autograd is disabled for the tensors."
   ]
  }
 ],
 "metadata": {
  "colab": {
   "name": "PyTorch101.ipynb",
   "provenance": []
  },
  "kernelspec": {
   "display_name": "Python 3",
   "language": "python",
   "name": "python3"
  },
  "language_info": {
   "codemirror_mode": {
    "name": "ipython",
    "version": 3
   },
   "file_extension": ".py",
   "mimetype": "text/x-python",
   "name": "python",
   "nbconvert_exporter": "python",
   "pygments_lexer": "ipython3",
   "version": "3.7.3"
  }
 },
 "nbformat": 4,
 "nbformat_minor": 1
}
