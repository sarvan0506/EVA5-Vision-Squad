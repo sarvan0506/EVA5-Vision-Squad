{
 "cells": [
  {
   "cell_type": "markdown",
   "metadata": {
    "colab_type": "text",
    "id": "aO-7t1Y7-hV4"
   },
   "source": [
    "# Imports\n",
    "Importing necessary packages and modules"
   ]
  },
  {
   "cell_type": "code",
   "execution_count": 1,
   "metadata": {
    "colab": {},
    "colab_type": "code",
    "id": "-yVpodAMpoCi"
   },
   "outputs": [],
   "source": [
    "%matplotlib inline\n",
    "\n",
    "from torchwrap.data import CIFAR10\n",
    "from torchwrap.model import ResidualModel\n",
    "from torchwrap.model.utils.loss import cross_entropy_loss\n",
    "from torchwrap.model.utils.optimizers import sgd\n",
    "from torchwrap.engine import LRFinder\n",
    "from torchwrap.engine.ops.lr_scheduler import OneCyclePolicy\n",
    "from torchwrap.utils import initialize_cuda, plot_metric\n",
    "from torchwrap.utils.clr import CyclicLR"
   ]
  },
  {
   "cell_type": "markdown",
   "metadata": {
    "colab_type": "text",
    "id": "Ve_XDp27GSN_"
   },
   "source": [
    "## Set Seed and Get GPU Availability"
   ]
  },
  {
   "cell_type": "code",
   "execution_count": 2,
   "metadata": {
    "colab": {
     "base_uri": "https://localhost:8080/",
     "height": 34
    },
    "colab_type": "code",
    "id": "CxVy79mmfQ1e",
    "outputId": "d9f2b640-c652-4e13-83bd-c6572b138997"
   },
   "outputs": [
    {
     "name": "stdout",
     "output_type": "stream",
     "text": [
      "GPU Available? True\n"
     ]
    }
   ],
   "source": [
    "# Initialize CUDA and set random seed\n",
    "cuda, device = initialize_cuda(1)"
   ]
  },
  {
   "cell_type": "markdown",
   "metadata": {
    "colab_type": "text",
    "id": "cKi2t8X-CKJ5"
   },
   "source": [
    "## Download Dataset\n",
    "\n",
    "Importing the CIFAR-10 class to download dataset and create data loader"
   ]
  },
  {
   "cell_type": "code",
   "execution_count": 3,
   "metadata": {
    "colab": {
     "base_uri": "https://localhost:8080/",
     "height": 70
    },
    "colab_type": "code",
    "id": "QZjDtZVLGXh-",
    "outputId": "193da377-30f4-4164-9b44-a8b5e33b5d45"
   },
   "outputs": [
    {
     "name": "stdout",
     "output_type": "stream",
     "text": [
      "Files already downloaded and verified\n",
      "Files already downloaded and verified\n",
      "Files already downloaded and verified\n"
     ]
    }
   ],
   "source": [
    "dataset = CIFAR10(\n",
    "    train_batch_size=512,\n",
    "    val_batch_size=512,\n",
    "    cuda=cuda,\n",
    "    num_workers=16,\n",
    "    padding=(40, 40),\n",
    "    crop=(32, 32),\n",
    "    horizontal_flip_prob=0.2,\n",
    "    cutout_prob=0.1,\n",
    "    cutout_dim=(8, 8),\n",
    ")"
   ]
  },
  {
   "cell_type": "markdown",
   "metadata": {
    "colab_type": "text",
    "id": "qFcWRAeY_MsB"
   },
   "source": [
    "## Training and Validation Dataloaders\n",
    "This is the final step in data preparation. It sets the dataloader arguments and then creates the dataloader"
   ]
  },
  {
   "cell_type": "code",
   "execution_count": 4,
   "metadata": {
    "colab": {},
    "colab_type": "code",
    "id": "D8Tjigo2poCl"
   },
   "outputs": [],
   "source": [
    "# Create train data loader\n",
    "train_loader = dataset.loader(train=True)\n",
    "\n",
    "# Create val data loader\n",
    "val_loader = dataset.loader(train=False)"
   ]
  },
  {
   "cell_type": "markdown",
   "metadata": {
    "colab_type": "text",
    "id": "HSeDIqBq-6pC"
   },
   "source": [
    "# Model Architecture and Summary"
   ]
  },
  {
   "cell_type": "code",
   "execution_count": 5,
   "metadata": {
    "colab": {
     "base_uri": "https://localhost:8080/",
     "height": 781
    },
    "colab_type": "code",
    "id": "vMmcgGBIguNc",
    "outputId": "718fbee8-5012-40a1-bd96-cb5cd98aa56c"
   },
   "outputs": [
    {
     "name": "stdout",
     "output_type": "stream",
     "text": [
      "----------------------------------------------------------------\n",
      "        Layer (type)               Output Shape         Param #\n",
      "================================================================\n",
      "            Conv2d-1           [-1, 64, 32, 32]           1,728\n",
      "       BatchNorm2d-2           [-1, 64, 32, 32]             128\n",
      "              ReLU-3           [-1, 64, 32, 32]               0\n",
      "            Conv2d-4          [-1, 128, 32, 32]          73,728\n",
      "         MaxPool2d-5          [-1, 128, 16, 16]               0\n",
      "       BatchNorm2d-6          [-1, 128, 16, 16]             256\n",
      "              ReLU-7          [-1, 128, 16, 16]               0\n",
      "            Conv2d-8          [-1, 128, 16, 16]         147,456\n",
      "       BatchNorm2d-9          [-1, 128, 16, 16]             256\n",
      "           Conv2d-10          [-1, 128, 16, 16]         147,456\n",
      "      BatchNorm2d-11          [-1, 128, 16, 16]             256\n",
      "       BasicBlock-12          [-1, 128, 16, 16]               0\n",
      "    ResidualBlock-13          [-1, 128, 16, 16]               0\n",
      "           Conv2d-14          [-1, 256, 16, 16]         294,912\n",
      "        MaxPool2d-15            [-1, 256, 8, 8]               0\n",
      "      BatchNorm2d-16            [-1, 256, 8, 8]             512\n",
      "             ReLU-17            [-1, 256, 8, 8]               0\n",
      "    ResidualBlock-18            [-1, 256, 8, 8]               0\n",
      "           Conv2d-19            [-1, 512, 8, 8]       1,179,648\n",
      "        MaxPool2d-20            [-1, 512, 4, 4]               0\n",
      "      BatchNorm2d-21            [-1, 512, 4, 4]           1,024\n",
      "             ReLU-22            [-1, 512, 4, 4]               0\n",
      "           Conv2d-23            [-1, 512, 4, 4]       2,359,296\n",
      "      BatchNorm2d-24            [-1, 512, 4, 4]           1,024\n",
      "           Conv2d-25            [-1, 512, 4, 4]       2,359,296\n",
      "      BatchNorm2d-26            [-1, 512, 4, 4]           1,024\n",
      "       BasicBlock-27            [-1, 512, 4, 4]               0\n",
      "    ResidualBlock-28            [-1, 512, 4, 4]               0\n",
      "        MaxPool2d-29            [-1, 512, 1, 1]               0\n",
      "           Linear-30                   [-1, 10]           5,130\n",
      "================================================================\n",
      "Total params: 6,573,130\n",
      "Trainable params: 6,573,130\n",
      "Non-trainable params: 0\n",
      "----------------------------------------------------------------\n",
      "Input size (MB): 0.01\n",
      "Forward/backward pass size (MB): 6.57\n",
      "Params size (MB): 25.07\n",
      "Estimated Total Size (MB): 31.65\n",
      "----------------------------------------------------------------\n"
     ]
    }
   ],
   "source": [
    "model = ResidualModel().to(device)  # Create model\n",
    "model.summary(dataset.image_size)  # Display model summary"
   ]
  },
  {
   "cell_type": "markdown",
   "metadata": {
    "colab_type": "text",
    "id": "pgYxmozxoZFq"
   },
   "source": [
    "# LR Range Test"
   ]
  },
  {
   "cell_type": "code",
   "execution_count": 6,
   "metadata": {
    "colab": {
     "base_uri": "https://localhost:8080/",
     "height": 70
    },
    "colab_type": "code",
    "id": "X_i8e0e2WB4f",
    "outputId": "ebbadeaa-0845-4580-a241-9367c9ec2f34"
   },
   "outputs": [
    {
     "name": "stdout",
     "output_type": "stream",
     "text": [
      "Iterations\n",
      "980/980 [========] - 101s 103ms/step - lr: 0.0101 - Accuracy: 56.6245\n",
      "Learning rate search finished.\n"
     ]
    }
   ],
   "source": [
    "start_lr = 1e-6\n",
    "end_lr = 0.02\n",
    "num_iterations = 10 * len(train_loader)  # 10 epochs\n",
    "\n",
    "# Create optimizer and loss function\n",
    "optimizer = sgd(model, learning_rate=start_lr, momentum=0.9, l2_factor=0.01)\n",
    "criterion = cross_entropy_loss()\n",
    "\n",
    "# LR Range Test\n",
    "lr_finder = LRFinder(model, optimizer, criterion, metric='accuracy', device=device)\n",
    "lr_finder.range_test(\n",
    "    train_loader, num_iterations, mode='iteration',\n",
    "    end_lr=end_lr, step_mode='linear', diverge_th=0\n",
    ")"
   ]
  },
  {
   "cell_type": "code",
   "execution_count": 7,
   "metadata": {
    "colab": {
     "base_uri": "https://localhost:8080/",
     "height": 318
    },
    "colab_type": "code",
    "id": "JSS6U_JZnmQg",
    "outputId": "fca51960-a469-45ff-8f86-f2a6ccd65351"
   },
   "outputs": [
    {
     "name": "stdout",
     "output_type": "stream",
     "text": [
      "Learning Rate: 0.02002040714285714\n",
      "Accuracy: 0.715928\n"
     ]
    },
    {
     "data": {
      "image/png": "[encoded data removed]",
      "text/plain": [
       "<Figure size 432x288 with 1 Axes>"
      ]
     },
     "metadata": {
      "needs_background": "light"
     },
     "output_type": "display_data"
    }
   ],
   "source": [
    "# Get best initial learning rate\n",
    "initial_lr = lr_finder.best_lr\n",
    "\n",
    "print('Learning Rate:', initial_lr)\n",
    "print('Accuracy:', lr_finder.best_metric)\n",
    "\n",
    "# Plot learning rate vs accuracy\n",
    "lr_finder.plot()\n",
    "\n",
    "# Reset graph\n",
    "lr_finder.reset()"
   ]
  },
  {
   "cell_type": "markdown",
   "metadata": {},
   "source": [
    "# One Cycle Policy Schedule"
   ]
  },
  {
   "cell_type": "code",
   "execution_count": 8,
   "metadata": {},
   "outputs": [
    {
     "name": "stderr",
     "output_type": "stream",
     "text": [
      "/usr/local/lib/python3.6/dist-packages/torch/optim/lr_scheduler.py:123: UserWarning: Detected call of `lr_scheduler.step()` before `optimizer.step()`. In PyTorch 1.1.0 and later, you should call them in the opposite order: `optimizer.step()` before `lr_scheduler.step()`.  Failure to do this will result in PyTorch skipping the first value of the learning rate schedule. See more details at https://pytorch.org/docs/stable/optim.html#how-to-adjust-learning-rate\n",
      "  \"https://pytorch.org/docs/stable/optim.html#how-to-adjust-learning-rate\", UserWarning)\n"
     ]
    },
    {
     "data": {
      "image/png": "[encoded data removed]",
      "text/plain": [
       "<Figure size 720x576 with 1 Axes>"
      ]
     },
     "metadata": {
      "needs_background": "light"
     },
     "output_type": "display_data"
    },
    {
     "data": {
      "text/plain": [
       "<Figure size 432x288 with 0 Axes>"
      ]
     },
     "metadata": {},
     "output_type": "display_data"
    }
   ],
   "source": [
    "epochs = 24\n",
    "\n",
    "# Define one cycle policy\n",
    "one_cycle_policy = OneCyclePolicy(optimizer=optimizer, max_lr=initial_lr,\n",
    "                                  epochs=epochs, steps_per_epoch=len(train_loader),\n",
    "                                  pct_start=5/epochs, div_factor=10, final_div_factor=1)\n",
    "\n",
    "one_cycle_policy.plot_policy()"
   ]
  },
  {
   "cell_type": "markdown",
   "metadata": {
    "colab_type": "text",
    "id": "HcyKrcQEGcdp"
   },
   "source": [
    "# Model Training and Validation"
   ]
  },
  {
   "cell_type": "code",
   "execution_count": 9,
   "metadata": {
    "colab": {
     "base_uri": "https://localhost:8080/",
     "height": 1000
    },
    "colab_type": "code",
    "id": "Pk83iZb2uaEA",
    "outputId": "f225dd50-c4ff-413b-a2b4-196707e52a55"
   },
   "outputs": [
    {
     "name": "stdout",
     "output_type": "stream",
     "text": [
      "Epoch 1:\n",
      "98/98 [========] - 10s 100ms/step - loss: 1.8569 - accuracy: 30.7503\n",
      "Validation set: Average loss: 0.0025, Accuracy: 55.45%\n",
      "\n",
      "Epoch 2:\n",
      "98/98 [========] - 10s 100ms/step - loss: 1.1663 - accuracy: 46.4956\n",
      "Validation set: Average loss: 0.0023, Accuracy: 61.68%\n",
      "\n",
      "Epoch 3:\n",
      "98/98 [========] - 10s 100ms/step - loss: 0.9884 - accuracy: 53.1849\n",
      "Validation set: Average loss: 0.0016, Accuracy: 72.23%\n",
      "\n",
      "Epoch 4:\n",
      "98/98 [========] - 10s 100ms/step - loss: 0.7355 - accuracy: 58.4403\n",
      "Validation set: Average loss: 0.0022, Accuracy: 66.26%\n",
      "\n",
      "Epoch 5:\n",
      "98/98 [========] - 10s 101ms/step - loss: 0.6410 - accuracy: 62.4955\n",
      "Validation set: Average loss: 0.0012, Accuracy: 80.36%\n",
      "\n",
      "Epoch 6:\n",
      "98/98 [========] - 10s 103ms/step - loss: 0.4930 - accuracy: 65.7946\n",
      "Validation set: Average loss: 0.0012, Accuracy: 80.39%\n",
      "\n",
      "Epoch 7:\n",
      "98/98 [========] - 10s 101ms/step - loss: 0.4274 - accuracy: 68.6581\n",
      "Validation set: Average loss: 0.0010, Accuracy: 82.77%\n",
      "\n",
      "Epoch 8:\n",
      "98/98 [========] - 10s 102ms/step - loss: 0.3863 - accuracy: 70.9846\n",
      "Validation set: Average loss: 0.0012, Accuracy: 79.41%\n",
      "\n",
      "Epoch 9:\n",
      "98/98 [========] - 10s 103ms/step - loss: 0.3384 - accuracy: 72.9540\n",
      "Validation set: Average loss: 0.0013, Accuracy: 78.83%\n",
      "\n",
      "Epoch 10:\n",
      "98/98 [========] - 10s 103ms/step - loss: 0.3205 - accuracy: 74.6206\n",
      "Validation set: Average loss: 0.0010, Accuracy: 83.50%\n",
      "\n",
      "Epoch 11:\n",
      "98/98 [========] - 10s 104ms/step - loss: 0.2892 - accuracy: 76.0599\n",
      "Validation set: Average loss: 0.0009, Accuracy: 84.86%\n",
      "\n",
      "Epoch 12:\n",
      "98/98 [========] - 10s 104ms/step - loss: 0.2717 - accuracy: 77.3120\n",
      "Validation set: Average loss: 0.0009, Accuracy: 84.21%\n",
      "\n",
      "Epoch 13:\n",
      "98/98 [========] - 10s 103ms/step - loss: 0.2497 - accuracy: 78.4377\n",
      "Validation set: Average loss: 0.0009, Accuracy: 85.72%\n",
      "\n",
      "Epoch 14:\n",
      "98/98 [========] - 10s 105ms/step - loss: 0.2373 - accuracy: 79.4604\n",
      "Validation set: Average loss: 0.0007, Accuracy: 87.63%\n",
      "\n",
      "Epoch 15:\n",
      "98/98 [========] - 10s 103ms/step - loss: 0.2152 - accuracy: 80.37672s - loss: 0.212\n",
      "Validation set: Average loss: 0.0008, Accuracy: 87.26%\n",
      "\n",
      "Epoch 16:\n",
      "98/98 [========] - 10s 102ms/step - loss: 0.2008 - accuracy: 81.2214\n",
      "Validation set: Average loss: 0.0008, Accuracy: 86.46%\n",
      "\n",
      "Epoch 17:\n",
      "98/98 [========] - 10s 104ms/step - loss: 0.1834 - accuracy: 82.0046\n",
      "Validation set: Average loss: 0.0008, Accuracy: 86.63%\n",
      "\n",
      "Epoch 18:\n",
      "98/98 [========] - 10s 103ms/step - loss: 0.1688 - accuracy: 82.7365\n",
      "Validation set: Average loss: 0.0008, Accuracy: 86.76%\n",
      "\n",
      "Epoch 19:\n",
      "98/98 [========] - 10s 103ms/step - loss: 0.1451 - accuracy: 83.4215\n",
      "Validation set: Average loss: 0.0006, Accuracy: 89.06%\n",
      "\n",
      "Epoch 20:\n",
      "98/98 [========] - 10s 104ms/step - loss: 0.1335 - accuracy: 84.0700\n",
      "Validation set: Average loss: 0.0006, Accuracy: 90.41%\n",
      "\n",
      "Epoch 21:\n",
      "98/98 [========] - 10s 103ms/step - loss: 0.1137 - accuracy: 84.6830\n",
      "Validation set: Average loss: 0.0006, Accuracy: 90.24%\n",
      "\n",
      "Epoch 22:\n",
      "98/98 [========] - 10s 104ms/step - loss: 0.0976 - accuracy: 85.2726\n",
      "Validation set: Average loss: 0.0006, Accuracy: 90.81%\n",
      "\n",
      "Epoch 23:\n",
      "98/98 [========] - 10s 104ms/step - loss: 0.0890 - accuracy: 85.8289\n",
      "Validation set: Average loss: 0.0005, Accuracy: 92.06%\n",
      "\n",
      "Epoch 24:\n",
      "98/98 [========] - 10s 103ms/step - loss: 0.0777 - accuracy: 86.3537\n",
      "Validation set: Average loss: 0.0005, Accuracy: 91.56%\n",
      "\n"
     ]
    }
   ],
   "source": [
    "one_cycle_policy = OneCyclePolicy(optimizer=optimizer, max_lr=initial_lr,\n",
    "                                  epochs=epochs, steps_per_epoch=len(train_loader),\n",
    "                                  pct_start=5/epochs, div_factor=10, final_div_factor=1)\n",
    "\n",
    "# Train model\n",
    "model.fit(\n",
    "    train_loader, optimizer, criterion, device=device, epochs=epochs,\n",
    "    val_loader=val_loader, callbacks=[one_cycle_policy]\n",
    ")"
   ]
  },
  {
   "cell_type": "markdown",
   "metadata": {
    "colab_type": "text",
    "id": "cV5et8bm91J5"
   },
   "source": [
    "# Cyclic LR Triangular Schedule"
   ]
  },
  {
   "cell_type": "code",
   "execution_count": 10,
   "metadata": {
    "colab": {
     "base_uri": "https://localhost:8080/",
     "height": 224
    },
    "colab_type": "code",
    "id": "4hNpEDD_92Mr",
    "outputId": "31052f22-900c-4e5b-bd29-52d42be9321c"
   },
   "outputs": [
    {
     "data": {
      "image/png": "[encoded data removed]",
      "text/plain": [
       "<Figure size 720x216 with 1 Axes>"
      ]
     },
     "metadata": {
      "needs_background": "light"
     },
     "output_type": "display_data"
    }
   ],
   "source": [
    "triangular_lr = CyclicLR(initial_lr, initial_lr / 10, len(train_loader), len(train_loader) * 10)\n",
    "triangular_lr.cyclic_lr(plot=True)"
   ]
  },
  {
   "cell_type": "markdown",
   "metadata": {
    "colab_type": "text",
    "id": "2o99Jq1XTdo-"
   },
   "source": [
    "## Plotting Accuracy"
   ]
  },
  {
   "cell_type": "code",
   "execution_count": 11,
   "metadata": {
    "colab": {
     "base_uri": "https://localhost:8080/",
     "height": 350
    },
    "colab_type": "code",
    "id": "xMFYHCFVA7Z-",
    "outputId": "9a5f8d9a-abfb-486f-fdac-53d20343f608"
   },
   "outputs": [
    {
     "data": {
      "image/png": "[encoded data removed]",
      "text/plain": [
       "<Figure size 504x360 with 1 Axes>"
      ]
     },
     "metadata": {
      "needs_background": "light"
     },
     "output_type": "display_data"
    }
   ],
   "source": [
    "plot_metric({\n",
    "    'Training': model.learner.train_accuracies,\n",
    "    'Validation': model.learner.val_accuracies\n",
    "}, 'Accuracy')"
   ]
  }
 ],
 "metadata": {
  "accelerator": "GPU",
  "colab": {
   "collapsed_sections": [],
   "name": "EVA4S11.ipynb",
   "provenance": [],
   "toc_visible": true
  },
  "kernelspec": {
   "display_name": "Python 3",
   "language": "python",
   "name": "python3"
  },
  "language_info": {
   "codemirror_mode": {
    "name": "ipython",
    "version": 3
   },
   "file_extension": ".py",
   "mimetype": "text/x-python",
   "name": "python",
   "nbconvert_exporter": "python",
   "pygments_lexer": "ipython3",
   "version": "3.6.9"
  }
 },
 "nbformat": 4,
 "nbformat_minor": 1
}
