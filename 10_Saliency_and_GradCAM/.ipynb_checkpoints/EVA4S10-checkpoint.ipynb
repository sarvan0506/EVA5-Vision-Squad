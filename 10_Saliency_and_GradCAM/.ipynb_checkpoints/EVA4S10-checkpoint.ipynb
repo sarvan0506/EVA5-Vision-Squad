{
 "cells": [
  {
   "cell_type": "markdown",
   "metadata": {
    "colab_type": "text",
    "id": "aO-7t1Y7-hV4"
   },
   "source": [
    "# Imports\n",
    "Importing necessary packages and modules"
   ]
  },
  {
   "cell_type": "code",
   "execution_count": 1,
   "metadata": {
    "colab": {},
    "colab_type": "code",
    "id": "-yVpodAMpoCi"
   },
   "outputs": [],
   "source": [
    "%matplotlib inline\n",
    "\n",
    "import matplotlib.pyplot as plt\n",
    "\n",
    "from torchsummary import summary\n",
    "from torchwrap import train, evaluate\n",
    "from torchwrap.data import CIFAR10\n",
    "from torchwrap.model import ResNet18\n",
    "from torchwrap.model.utils import LRFinder\n",
    "from torchwrap.model.utils.loss import cross_entropy_loss\n",
    "from torchwrap.model.utils.optimizers import sgd\n",
    "from torchwrap.model.utils.callbacks import reduce_lr_on_plateau\n",
    "from torchwrap.gradcam import GradCAMView\n",
    "from torchwrap.utils import initialize_cuda, plot_metric, class_level_accuracy"
   ]
  },
  {
   "cell_type": "markdown",
   "metadata": {
    "colab_type": "text",
    "id": "-7CMwrhPDw5b"
   },
   "source": [
    "# Configuration\n",
    "\n",
    "Set various parameters and hyperparameters"
   ]
  },
  {
   "cell_type": "code",
   "execution_count": 2,
   "metadata": {
    "colab": {},
    "colab_type": "code",
    "id": "cq_Mo-qRD79h"
   },
   "outputs": [],
   "source": [
    "class Args:\n",
    "\n",
    "    # Data Loading\n",
    "    # ============\n",
    "\n",
    "    train_batch_size = 64\n",
    "    val_batch_size = 64\n",
    "    num_workers = 4\n",
    "\n",
    "    # Augmentation\n",
    "    # ============\n",
    "    horizontal_flip_prob = 0.2\n",
    "    rotate_degree = 20\n",
    "    cutout = 0.3\n",
    "\n",
    "    # Training\n",
    "    # ========\n",
    "    random_seed = 1\n",
    "    epochs = 50\n",
    "    momentum = 0.9\n",
    "    start_lr = 1e-7\n",
    "    end_lr = 5\n",
    "    num_iter = 400\n",
    "    min_lr = 1e-4\n",
    "    lr_decay_factor = 0.1\n",
    "    lr_decay_patience = 2\n",
    "\n",
    "    # Evaluation\n",
    "    # ==========\n",
    "    sample_count = 25"
   ]
  },
  {
   "cell_type": "markdown",
   "metadata": {
    "colab_type": "text",
    "id": "Ve_XDp27GSN_"
   },
   "source": [
    "## Set Seed and Get GPU Availability"
   ]
  },
  {
   "cell_type": "code",
   "execution_count": 3,
   "metadata": {
    "colab": {
     "base_uri": "https://localhost:8080/",
     "height": 34
    },
    "colab_type": "code",
    "id": "CxVy79mmfQ1e",
    "outputId": "8e5beda2-0bdd-41ff-e2b4-a71198015716"
   },
   "outputs": [
    {
     "name": "stdout",
     "output_type": "stream",
     "text": [
      "GPU Available? True\n"
     ]
    }
   ],
   "source": [
    "# Initialize CUDA and set random seed\n",
    "cuda, device = initialize_cuda(Args.random_seed)"
   ]
  },
  {
   "cell_type": "markdown",
   "metadata": {
    "colab_type": "text",
    "id": "cKi2t8X-CKJ5"
   },
   "source": [
    "## Download Dataset\n",
    "\n",
    "Importing the CIFAR-10 class to download dataset and create data loader"
   ]
  },
  {
   "cell_type": "code",
   "execution_count": 4,
   "metadata": {
    "colab": {
     "base_uri": "https://localhost:8080/",
     "height": 70
    },
    "colab_type": "code",
    "id": "QZjDtZVLGXh-",
    "outputId": "0e285277-cba8-47b2-e227-b705802f72ad"
   },
   "outputs": [
    {
     "name": "stdout",
     "output_type": "stream",
     "text": [
      "Files already downloaded and verified\n",
      "Files already downloaded and verified\n",
      "Files already downloaded and verified\n"
     ]
    }
   ],
   "source": [
    "dataset = CIFAR10(\n",
    "    train_batch_size=Args.train_batch_size,\n",
    "    val_batch_size=Args.val_batch_size,\n",
    "    cuda=cuda,\n",
    "    num_workers=Args.num_workers,\n",
    "    horizontal_flip_prob=Args.horizontal_flip_prob,\n",
    "    rotate_degree=Args.rotate_degree,\n",
    "    cutout=Args.cutout\n",
    ")"
   ]
  },
  {
   "cell_type": "markdown",
   "metadata": {
    "colab_type": "text",
    "id": "qFcWRAeY_MsB"
   },
   "source": [
    "## Training and Validation Dataloaders\n",
    "This is the final step in data preparation. It sets the dataloader arguments and then creates the dataloader"
   ]
  },
  {
   "cell_type": "code",
   "execution_count": 5,
   "metadata": {
    "colab": {},
    "colab_type": "code",
    "id": "D8Tjigo2poCl"
   },
   "outputs": [],
   "source": [
    "# Create train data loader\n",
    "train_loader = dataset.loader(train=True)\n",
    "\n",
    "# Create val data loader\n",
    "val_loader = dataset.loader(train=False)"
   ]
  },
  {
   "cell_type": "markdown",
   "metadata": {
    "colab_type": "text",
    "id": "HSeDIqBq-6pC"
   },
   "source": [
    "# Model Architecture and Summary"
   ]
  },
  {
   "cell_type": "code",
   "execution_count": 6,
   "metadata": {
    "colab": {
     "base_uri": "https://localhost:8080/",
     "height": 1000
    },
    "colab_type": "code",
    "id": "vMmcgGBIguNc",
    "outputId": "90b65472-9eb3-46ad-c463-696b0c5c0d4c"
   },
   "outputs": [
    {
     "name": "stdout",
     "output_type": "stream",
     "text": [
      "----------------------------------------------------------------\n",
      "        Layer (type)               Output Shape         Param #\n",
      "================================================================\n",
      "            Conv2d-1           [-1, 64, 32, 32]           1,728\n",
      "       BatchNorm2d-2           [-1, 64, 32, 32]             128\n",
      "            Conv2d-3           [-1, 64, 32, 32]          36,864\n",
      "       BatchNorm2d-4           [-1, 64, 32, 32]             128\n",
      "            Conv2d-5           [-1, 64, 32, 32]          36,864\n",
      "       BatchNorm2d-6           [-1, 64, 32, 32]             128\n",
      "        BasicBlock-7           [-1, 64, 32, 32]               0\n",
      "            Conv2d-8           [-1, 64, 32, 32]          36,864\n",
      "       BatchNorm2d-9           [-1, 64, 32, 32]             128\n",
      "           Conv2d-10           [-1, 64, 32, 32]          36,864\n",
      "      BatchNorm2d-11           [-1, 64, 32, 32]             128\n",
      "       BasicBlock-12           [-1, 64, 32, 32]               0\n",
      "           Conv2d-13          [-1, 128, 16, 16]          73,728\n",
      "      BatchNorm2d-14          [-1, 128, 16, 16]             256\n",
      "           Conv2d-15          [-1, 128, 16, 16]         147,456\n",
      "      BatchNorm2d-16          [-1, 128, 16, 16]             256\n",
      "           Conv2d-17          [-1, 128, 16, 16]           8,192\n",
      "      BatchNorm2d-18          [-1, 128, 16, 16]             256\n",
      "       BasicBlock-19          [-1, 128, 16, 16]               0\n",
      "           Conv2d-20          [-1, 128, 16, 16]         147,456\n",
      "      BatchNorm2d-21          [-1, 128, 16, 16]             256\n",
      "           Conv2d-22          [-1, 128, 16, 16]         147,456\n",
      "      BatchNorm2d-23          [-1, 128, 16, 16]             256\n",
      "       BasicBlock-24          [-1, 128, 16, 16]               0\n",
      "           Conv2d-25            [-1, 256, 8, 8]         294,912\n",
      "      BatchNorm2d-26            [-1, 256, 8, 8]             512\n",
      "           Conv2d-27            [-1, 256, 8, 8]         589,824\n",
      "      BatchNorm2d-28            [-1, 256, 8, 8]             512\n",
      "           Conv2d-29            [-1, 256, 8, 8]          32,768\n",
      "      BatchNorm2d-30            [-1, 256, 8, 8]             512\n",
      "       BasicBlock-31            [-1, 256, 8, 8]               0\n",
      "           Conv2d-32            [-1, 256, 8, 8]         589,824\n",
      "      BatchNorm2d-33            [-1, 256, 8, 8]             512\n",
      "           Conv2d-34            [-1, 256, 8, 8]         589,824\n",
      "      BatchNorm2d-35            [-1, 256, 8, 8]             512\n",
      "       BasicBlock-36            [-1, 256, 8, 8]               0\n",
      "           Conv2d-37            [-1, 512, 4, 4]       1,179,648\n",
      "      BatchNorm2d-38            [-1, 512, 4, 4]           1,024\n",
      "           Conv2d-39            [-1, 512, 4, 4]       2,359,296\n",
      "      BatchNorm2d-40            [-1, 512, 4, 4]           1,024\n",
      "           Conv2d-41            [-1, 512, 4, 4]         131,072\n",
      "      BatchNorm2d-42            [-1, 512, 4, 4]           1,024\n",
      "       BasicBlock-43            [-1, 512, 4, 4]               0\n",
      "           Conv2d-44            [-1, 512, 4, 4]       2,359,296\n",
      "      BatchNorm2d-45            [-1, 512, 4, 4]           1,024\n",
      "           Conv2d-46            [-1, 512, 4, 4]       2,359,296\n",
      "      BatchNorm2d-47            [-1, 512, 4, 4]           1,024\n",
      "       BasicBlock-48            [-1, 512, 4, 4]               0\n",
      "           Linear-49                   [-1, 10]           5,130\n",
      "================================================================\n",
      "Total params: 11,173,962\n",
      "Trainable params: 11,173,962\n",
      "Non-trainable params: 0\n",
      "----------------------------------------------------------------\n",
      "Input size (MB): 0.01\n",
      "Forward/backward pass size (MB): 11.25\n",
      "Params size (MB): 42.63\n",
      "Estimated Total Size (MB): 53.89\n",
      "----------------------------------------------------------------\n"
     ]
    }
   ],
   "source": [
    "model = ResNet18().to(device)  # Create model\n",
    "summary(model, dataset.image_size)  # Display model summary"
   ]
  },
  {
   "cell_type": "markdown",
   "metadata": {
    "colab_type": "text",
    "id": "pgYxmozxoZFq"
   },
   "source": [
    "# Find Initial Learning Rate"
   ]
  },
  {
   "cell_type": "code",
   "execution_count": 9,
   "metadata": {
    "colab": {
     "base_uri": "https://localhost:8080/",
     "height": 84,
     "referenced_widgets": [
      "d5457a9380e3494082e1085a08bed926",
      "bcfbd9b6353546e4b3ba7945b6e7ece0",
      "100a1f475e504076a2a93f320e0be0ec",
      "d8cbbfce04eb4a9690f441aa95e06d83",
      "473cfcf859c14859b3d0a570f29fb3e4",
      "ce26a67aa1f34a95ae2e0cd9fa7875f7",
      "1d9c13e191294e3384b1d0e4cc1884d8",
      "d5139ab1224845c1b66003bbf03427a9"
     ]
    },
    "colab_type": "code",
    "id": "X_i8e0e2WB4f",
    "outputId": "08654556-cf98-453a-d2a3-4eb3c8c40f28"
   },
   "outputs": [
    {
     "data": {
      "application/vnd.jupyter.widget-view+json": {
       "model_id": "3f12203b5dff44fcba869df6c3624baa",
       "version_major": 2,
       "version_minor": 0
      },
      "text/plain": [
       "HBox(children=(FloatProgress(value=0.0, max=400.0), HTML(value='')))"
      ]
     },
     "metadata": {},
     "output_type": "display_data"
    },
    {
     "name": "stdout",
     "output_type": "stream",
     "text": [
      "\n",
      "Learning rate search finished.\n"
     ]
    }
   ],
   "source": [
    "model = ResNet18().to(device)  # Create model\n",
    "optimizer = sgd(model, Args.start_lr, Args.momentum)  # Create optimizer\n",
    "criterion = cross_entropy_loss()  # Create loss function\n",
    "\n",
    "# Find learning rate\n",
    "lr_finder = LRFinder(model, optimizer, criterion, device=device)\n",
    "lr_finder.range_test(train_loader, end_lr=Args.end_lr, num_iter=Args.num_iter, step_mode='exp')"
   ]
  },
  {
   "cell_type": "code",
   "execution_count": 10,
   "metadata": {
    "colab": {
     "base_uri": "https://localhost:8080/",
     "height": 318
    },
    "colab_type": "code",
    "id": "SYvaLqsUY9li",
    "outputId": "76608916-d332-4896-913b-af53b24ff01b"
   },
   "outputs": [
    {
     "name": "stdout",
     "output_type": "stream",
     "text": [
      "Learning Rate: 0.006203100646008874\n",
      "Loss: 1.8827238663179817\n"
     ]
    },
    {
     "data": {
      "image/png": "[encoded data removed]",
      "text/plain": [
       "<Figure size 432x288 with 1 Axes>"
      ]
     },
     "metadata": {
      "needs_background": "light"
     },
     "output_type": "display_data"
    }
   ],
   "source": [
    "# Get best initial learning rate\n",
    "initial_lr = lr_finder.best_lr\n",
    "\n",
    "# Print learning rate and loss\n",
    "print('Learning Rate:', initial_lr)\n",
    "print('Loss:', lr_finder.best_loss)\n",
    "\n",
    "# Plot learning rate vs loss\n",
    "lr_finder.plot()\n",
    "\n",
    "# Reset graph\n",
    "lr_finder.reset()"
   ]
  },
  {
   "cell_type": "markdown",
   "metadata": {
    "colab_type": "text",
    "id": "HcyKrcQEGcdp"
   },
   "source": [
    "# Model Training and Validation"
   ]
  },
  {
   "cell_type": "code",
   "execution_count": 11,
   "metadata": {
    "colab": {
     "base_uri": "https://localhost:8080/",
     "height": 1000
    },
    "colab_type": "code",
    "id": "Pk83iZb2uaEA",
    "outputId": "f202225a-da8d-4ae8-c7dd-ef12d1faefca",
    "scrolled": false
   },
   "outputs": [
    {
     "name": "stderr",
     "output_type": "stream",
     "text": [
      "\r",
      "  0%|          | 0/782 [00:00<?, ?it/s]"
     ]
    },
    {
     "name": "stdout",
     "output_type": "stream",
     "text": [
      "Epoch 1:\n"
     ]
    },
    {
     "name": "stderr",
     "output_type": "stream",
     "text": [
      "Loss=1.57 Batch_ID=781 Accuracy=49.97: 100%|██████████| 782/782 [00:25<00:00, 30.61it/s]\n",
      "  0%|          | 0/782 [00:00<?, ?it/s]"
     ]
    },
    {
     "name": "stdout",
     "output_type": "stream",
     "text": [
      "\n",
      "Validation set: Average loss: 0.0154, Accuracy: 6472/10000 (64.72%)\n",
      "\n",
      "Epoch 2:\n"
     ]
    },
    {
     "name": "stderr",
     "output_type": "stream",
     "text": [
      "Loss=1.02 Batch_ID=781 Accuracy=67.86: 100%|██████████| 782/782 [00:26<00:00, 30.07it/s]\n",
      "  0%|          | 0/782 [00:00<?, ?it/s]"
     ]
    },
    {
     "name": "stdout",
     "output_type": "stream",
     "text": [
      "\n",
      "Validation set: Average loss: 0.0139, Accuracy: 6954/10000 (69.54%)\n",
      "\n",
      "Epoch 3:\n"
     ]
    },
    {
     "name": "stderr",
     "output_type": "stream",
     "text": [
      "Loss=0.80 Batch_ID=781 Accuracy=75.06: 100%|██████████| 782/782 [00:26<00:00, 29.09it/s]\n",
      "  0%|          | 0/782 [00:00<?, ?it/s]"
     ]
    },
    {
     "name": "stdout",
     "output_type": "stream",
     "text": [
      "\n",
      "Validation set: Average loss: 0.0107, Accuracy: 7621/10000 (76.21%)\n",
      "\n",
      "Epoch 4:\n"
     ]
    },
    {
     "name": "stderr",
     "output_type": "stream",
     "text": [
      "Loss=0.57 Batch_ID=781 Accuracy=79.20: 100%|██████████| 782/782 [00:26<00:00, 29.09it/s]\n",
      "  0%|          | 0/782 [00:00<?, ?it/s]"
     ]
    },
    {
     "name": "stdout",
     "output_type": "stream",
     "text": [
      "\n",
      "Validation set: Average loss: 0.0091, Accuracy: 7984/10000 (79.84%)\n",
      "\n",
      "Epoch 5:\n"
     ]
    },
    {
     "name": "stderr",
     "output_type": "stream",
     "text": [
      "Loss=0.62 Batch_ID=781 Accuracy=81.99: 100%|██████████| 782/782 [00:27<00:00, 28.78it/s]\n",
      "  0%|          | 0/782 [00:00<?, ?it/s]"
     ]
    },
    {
     "name": "stdout",
     "output_type": "stream",
     "text": [
      "\n",
      "Validation set: Average loss: 0.0092, Accuracy: 8105/10000 (81.05%)\n",
      "\n",
      "Epoch 6:\n"
     ]
    },
    {
     "name": "stderr",
     "output_type": "stream",
     "text": [
      "Loss=0.87 Batch_ID=781 Accuracy=84.32: 100%|██████████| 782/782 [00:27<00:00, 28.65it/s]\n",
      "  0%|          | 0/782 [00:00<?, ?it/s]"
     ]
    },
    {
     "name": "stdout",
     "output_type": "stream",
     "text": [
      "\n",
      "Validation set: Average loss: 0.0081, Accuracy: 8269/10000 (82.69%)\n",
      "\n",
      "Epoch 7:\n"
     ]
    },
    {
     "name": "stderr",
     "output_type": "stream",
     "text": [
      "Loss=0.78 Batch_ID=781 Accuracy=85.85: 100%|██████████| 782/782 [00:27<00:00, 28.69it/s]\n",
      "  0%|          | 0/782 [00:00<?, ?it/s]"
     ]
    },
    {
     "name": "stdout",
     "output_type": "stream",
     "text": [
      "\n",
      "Validation set: Average loss: 0.0076, Accuracy: 8393/10000 (83.93%)\n",
      "\n",
      "Epoch 8:\n"
     ]
    },
    {
     "name": "stderr",
     "output_type": "stream",
     "text": [
      "Loss=0.44 Batch_ID=781 Accuracy=87.36: 100%|██████████| 782/782 [00:27<00:00, 28.46it/s]\n",
      "  0%|          | 0/782 [00:00<?, ?it/s]"
     ]
    },
    {
     "name": "stdout",
     "output_type": "stream",
     "text": [
      "\n",
      "Validation set: Average loss: 0.0076, Accuracy: 8401/10000 (84.01%)\n",
      "\n",
      "Epoch 9:\n"
     ]
    },
    {
     "name": "stderr",
     "output_type": "stream",
     "text": [
      "Loss=0.14 Batch_ID=781 Accuracy=88.14: 100%|██████████| 782/782 [00:27<00:00, 28.63it/s]\n",
      "  0%|          | 0/782 [00:00<?, ?it/s]"
     ]
    },
    {
     "name": "stdout",
     "output_type": "stream",
     "text": [
      "\n",
      "Validation set: Average loss: 0.0073, Accuracy: 8522/10000 (85.22%)\n",
      "\n",
      "Epoch 10:\n"
     ]
    },
    {
     "name": "stderr",
     "output_type": "stream",
     "text": [
      "Loss=0.03 Batch_ID=781 Accuracy=89.27: 100%|██████████| 782/782 [00:27<00:00, 28.91it/s]\n",
      "  0%|          | 0/782 [00:00<?, ?it/s]"
     ]
    },
    {
     "name": "stdout",
     "output_type": "stream",
     "text": [
      "\n",
      "Validation set: Average loss: 0.0072, Accuracy: 8569/10000 (85.69%)\n",
      "\n",
      "Epoch 11:\n"
     ]
    },
    {
     "name": "stderr",
     "output_type": "stream",
     "text": [
      "Loss=0.12 Batch_ID=781 Accuracy=90.41: 100%|██████████| 782/782 [00:27<00:00, 28.90it/s]\n",
      "  0%|          | 0/782 [00:00<?, ?it/s]"
     ]
    },
    {
     "name": "stdout",
     "output_type": "stream",
     "text": [
      "\n",
      "Validation set: Average loss: 0.0067, Accuracy: 8620/10000 (86.20%)\n",
      "\n",
      "Epoch 12:\n"
     ]
    },
    {
     "name": "stderr",
     "output_type": "stream",
     "text": [
      "Loss=0.08 Batch_ID=781 Accuracy=91.14: 100%|██████████| 782/782 [00:26<00:00, 29.04it/s]\n",
      "  0%|          | 0/782 [00:00<?, ?it/s]"
     ]
    },
    {
     "name": "stdout",
     "output_type": "stream",
     "text": [
      "\n",
      "Validation set: Average loss: 0.0072, Accuracy: 8575/10000 (85.75%)\n",
      "\n",
      "Epoch 13:\n"
     ]
    },
    {
     "name": "stderr",
     "output_type": "stream",
     "text": [
      "Loss=0.15 Batch_ID=781 Accuracy=91.92: 100%|██████████| 782/782 [00:26<00:00, 28.97it/s]\n",
      "  0%|          | 0/782 [00:00<?, ?it/s]"
     ]
    },
    {
     "name": "stdout",
     "output_type": "stream",
     "text": [
      "\n",
      "Validation set: Average loss: 0.0071, Accuracy: 8594/10000 (85.94%)\n",
      "\n",
      "Epoch 14:\n"
     ]
    },
    {
     "name": "stderr",
     "output_type": "stream",
     "text": [
      "Loss=0.11 Batch_ID=781 Accuracy=92.38: 100%|██████████| 782/782 [00:27<00:00, 28.84it/s]\n",
      "  0%|          | 0/782 [00:00<?, ?it/s]"
     ]
    },
    {
     "name": "stdout",
     "output_type": "stream",
     "text": [
      "\n",
      "Validation set: Average loss: 0.0064, Accuracy: 8712/10000 (87.12%)\n",
      "\n",
      "Epoch 15:\n"
     ]
    },
    {
     "name": "stderr",
     "output_type": "stream",
     "text": [
      "Loss=0.63 Batch_ID=781 Accuracy=93.07: 100%|██████████| 782/782 [00:27<00:00, 28.90it/s]\n",
      "  0%|          | 0/782 [00:00<?, ?it/s]"
     ]
    },
    {
     "name": "stdout",
     "output_type": "stream",
     "text": [
      "\n",
      "Validation set: Average loss: 0.0064, Accuracy: 8758/10000 (87.58%)\n",
      "\n",
      "Epoch 16:\n"
     ]
    },
    {
     "name": "stderr",
     "output_type": "stream",
     "text": [
      "Loss=0.24 Batch_ID=781 Accuracy=93.60: 100%|██████████| 782/782 [00:27<00:00, 28.71it/s]\n",
      "  0%|          | 0/782 [00:00<?, ?it/s]"
     ]
    },
    {
     "name": "stdout",
     "output_type": "stream",
     "text": [
      "\n",
      "Validation set: Average loss: 0.0076, Accuracy: 8626/10000 (86.26%)\n",
      "\n",
      "Epoch 17:\n"
     ]
    },
    {
     "name": "stderr",
     "output_type": "stream",
     "text": [
      "Loss=0.34 Batch_ID=781 Accuracy=93.71: 100%|██████████| 782/782 [00:26<00:00, 29.12it/s]\n",
      "  0%|          | 0/782 [00:00<?, ?it/s]"
     ]
    },
    {
     "name": "stdout",
     "output_type": "stream",
     "text": [
      "\n",
      "Validation set: Average loss: 0.0067, Accuracy: 8768/10000 (87.68%)\n",
      "\n",
      "Epoch    17: reducing learning rate of group 0 to 6.2031e-04.\n",
      "Epoch 18:\n"
     ]
    },
    {
     "name": "stderr",
     "output_type": "stream",
     "text": [
      "Loss=0.67 Batch_ID=781 Accuracy=96.07: 100%|██████████| 782/782 [00:27<00:00, 28.55it/s]\n",
      "  0%|          | 0/782 [00:00<?, ?it/s]"
     ]
    },
    {
     "name": "stdout",
     "output_type": "stream",
     "text": [
      "\n",
      "Validation set: Average loss: 0.0052, Accuracy: 8962/10000 (89.62%)\n",
      "\n",
      "Epoch 19:\n"
     ]
    },
    {
     "name": "stderr",
     "output_type": "stream",
     "text": [
      "Loss=0.04 Batch_ID=781 Accuracy=96.77: 100%|██████████| 782/782 [00:27<00:00, 28.82it/s]\n",
      "  0%|          | 0/782 [00:00<?, ?it/s]"
     ]
    },
    {
     "name": "stdout",
     "output_type": "stream",
     "text": [
      "\n",
      "Validation set: Average loss: 0.0051, Accuracy: 8993/10000 (89.93%)\n",
      "\n",
      "Epoch 20:\n"
     ]
    },
    {
     "name": "stderr",
     "output_type": "stream",
     "text": [
      "Loss=0.23 Batch_ID=781 Accuracy=96.95: 100%|██████████| 782/782 [00:27<00:00, 28.95it/s]\n",
      "  0%|          | 0/782 [00:00<?, ?it/s]"
     ]
    },
    {
     "name": "stdout",
     "output_type": "stream",
     "text": [
      "\n",
      "Validation set: Average loss: 0.0052, Accuracy: 8997/10000 (89.97%)\n",
      "\n",
      "Epoch 21:\n"
     ]
    },
    {
     "name": "stderr",
     "output_type": "stream",
     "text": [
      "Loss=0.08 Batch_ID=781 Accuracy=97.26: 100%|██████████| 782/782 [00:27<00:00, 28.50it/s]\n",
      "  0%|          | 0/782 [00:00<?, ?it/s]"
     ]
    },
    {
     "name": "stdout",
     "output_type": "stream",
     "text": [
      "\n",
      "Validation set: Average loss: 0.0051, Accuracy: 9006/10000 (90.06%)\n",
      "\n",
      "Epoch 22:\n"
     ]
    },
    {
     "name": "stderr",
     "output_type": "stream",
     "text": [
      "Loss=0.43 Batch_ID=781 Accuracy=97.27: 100%|██████████| 782/782 [00:26<00:00, 29.07it/s]\n",
      "  0%|          | 0/782 [00:00<?, ?it/s]"
     ]
    },
    {
     "name": "stdout",
     "output_type": "stream",
     "text": [
      "\n",
      "Validation set: Average loss: 0.0051, Accuracy: 9010/10000 (90.10%)\n",
      "\n",
      "Epoch 23:\n"
     ]
    },
    {
     "name": "stderr",
     "output_type": "stream",
     "text": [
      "Loss=0.03 Batch_ID=781 Accuracy=97.58: 100%|██████████| 782/782 [00:26<00:00, 29.10it/s]\n",
      "  0%|          | 0/782 [00:00<?, ?it/s]"
     ]
    },
    {
     "name": "stdout",
     "output_type": "stream",
     "text": [
      "\n",
      "Validation set: Average loss: 0.0051, Accuracy: 9026/10000 (90.26%)\n",
      "\n",
      "Epoch 24:\n"
     ]
    },
    {
     "name": "stderr",
     "output_type": "stream",
     "text": [
      "Loss=0.09 Batch_ID=781 Accuracy=97.47: 100%|██████████| 782/782 [00:27<00:00, 28.72it/s]\n",
      "  0%|          | 0/782 [00:00<?, ?it/s]"
     ]
    },
    {
     "name": "stdout",
     "output_type": "stream",
     "text": [
      "\n",
      "Validation set: Average loss: 0.0051, Accuracy: 9024/10000 (90.24%)\n",
      "\n",
      "Epoch 25:\n"
     ]
    },
    {
     "name": "stderr",
     "output_type": "stream",
     "text": [
      "Loss=0.05 Batch_ID=781 Accuracy=97.57: 100%|██████████| 782/782 [00:27<00:00, 28.46it/s]\n",
      "  0%|          | 0/782 [00:00<?, ?it/s]"
     ]
    },
    {
     "name": "stdout",
     "output_type": "stream",
     "text": [
      "\n",
      "Validation set: Average loss: 0.0051, Accuracy: 9023/10000 (90.23%)\n",
      "\n",
      "Epoch 26:\n"
     ]
    },
    {
     "name": "stderr",
     "output_type": "stream",
     "text": [
      "Loss=0.07 Batch_ID=781 Accuracy=97.62: 100%|██████████| 782/782 [00:27<00:00, 28.59it/s]\n",
      "  0%|          | 0/782 [00:00<?, ?it/s]"
     ]
    },
    {
     "name": "stdout",
     "output_type": "stream",
     "text": [
      "\n",
      "Validation set: Average loss: 0.0052, Accuracy: 9033/10000 (90.33%)\n",
      "\n",
      "Epoch 27:\n"
     ]
    },
    {
     "name": "stderr",
     "output_type": "stream",
     "text": [
      "Loss=0.13 Batch_ID=781 Accuracy=97.75: 100%|██████████| 782/782 [00:27<00:00, 28.95it/s]\n",
      "  0%|          | 0/782 [00:00<?, ?it/s]"
     ]
    },
    {
     "name": "stdout",
     "output_type": "stream",
     "text": [
      "\n",
      "Validation set: Average loss: 0.0052, Accuracy: 9027/10000 (90.27%)\n",
      "\n",
      "Epoch    27: reducing learning rate of group 0 to 1.0000e-04.\n",
      "Epoch 28:\n"
     ]
    },
    {
     "name": "stderr",
     "output_type": "stream",
     "text": [
      "Loss=0.38 Batch_ID=781 Accuracy=97.79: 100%|██████████| 782/782 [00:27<00:00, 28.25it/s]\n",
      "  0%|          | 0/782 [00:00<?, ?it/s]"
     ]
    },
    {
     "name": "stdout",
     "output_type": "stream",
     "text": [
      "\n",
      "Validation set: Average loss: 0.0051, Accuracy: 9034/10000 (90.34%)\n",
      "\n",
      "Epoch 29:\n"
     ]
    },
    {
     "name": "stderr",
     "output_type": "stream",
     "text": [
      "Loss=0.10 Batch_ID=781 Accuracy=97.99: 100%|██████████| 782/782 [00:26<00:00, 29.06it/s]\n",
      "  0%|          | 0/782 [00:00<?, ?it/s]"
     ]
    },
    {
     "name": "stdout",
     "output_type": "stream",
     "text": [
      "\n",
      "Validation set: Average loss: 0.0051, Accuracy: 9042/10000 (90.42%)\n",
      "\n",
      "Epoch 30:\n"
     ]
    },
    {
     "name": "stderr",
     "output_type": "stream",
     "text": [
      "Loss=0.16 Batch_ID=781 Accuracy=97.92: 100%|██████████| 782/782 [00:27<00:00, 28.55it/s]\n",
      "  0%|          | 0/782 [00:00<?, ?it/s]"
     ]
    },
    {
     "name": "stdout",
     "output_type": "stream",
     "text": [
      "\n",
      "Validation set: Average loss: 0.0052, Accuracy: 9027/10000 (90.27%)\n",
      "\n",
      "Epoch 31:\n"
     ]
    },
    {
     "name": "stderr",
     "output_type": "stream",
     "text": [
      "Loss=0.28 Batch_ID=781 Accuracy=97.88: 100%|██████████| 782/782 [00:27<00:00, 28.64it/s]\n",
      "  0%|          | 0/782 [00:00<?, ?it/s]"
     ]
    },
    {
     "name": "stdout",
     "output_type": "stream",
     "text": [
      "\n",
      "Validation set: Average loss: 0.0050, Accuracy: 9067/10000 (90.67%)\n",
      "\n",
      "Epoch 32:\n"
     ]
    },
    {
     "name": "stderr",
     "output_type": "stream",
     "text": [
      "Loss=0.16 Batch_ID=781 Accuracy=97.96: 100%|██████████| 782/782 [00:27<00:00, 28.61it/s]\n",
      "  0%|          | 0/782 [00:00<?, ?it/s]"
     ]
    },
    {
     "name": "stdout",
     "output_type": "stream",
     "text": [
      "\n",
      "Validation set: Average loss: 0.0051, Accuracy: 9053/10000 (90.53%)\n",
      "\n",
      "Epoch 33:\n"
     ]
    },
    {
     "name": "stderr",
     "output_type": "stream",
     "text": [
      "Loss=0.07 Batch_ID=781 Accuracy=97.93: 100%|██████████| 782/782 [00:27<00:00, 28.62it/s]\n",
      "  0%|          | 0/782 [00:00<?, ?it/s]"
     ]
    },
    {
     "name": "stdout",
     "output_type": "stream",
     "text": [
      "\n",
      "Validation set: Average loss: 0.0051, Accuracy: 9058/10000 (90.58%)\n",
      "\n",
      "Epoch 34:\n"
     ]
    },
    {
     "name": "stderr",
     "output_type": "stream",
     "text": [
      "Loss=0.02 Batch_ID=781 Accuracy=98.01: 100%|██████████| 782/782 [00:27<00:00, 28.59it/s]\n",
      "  0%|          | 0/782 [00:00<?, ?it/s]"
     ]
    },
    {
     "name": "stdout",
     "output_type": "stream",
     "text": [
      "\n",
      "Validation set: Average loss: 0.0051, Accuracy: 9054/10000 (90.54%)\n",
      "\n",
      "Epoch 35:\n"
     ]
    },
    {
     "name": "stderr",
     "output_type": "stream",
     "text": [
      "Loss=0.01 Batch_ID=781 Accuracy=97.85: 100%|██████████| 782/782 [00:27<00:00, 28.66it/s]\n",
      "  0%|          | 0/782 [00:00<?, ?it/s]"
     ]
    },
    {
     "name": "stdout",
     "output_type": "stream",
     "text": [
      "\n",
      "Validation set: Average loss: 0.0052, Accuracy: 9042/10000 (90.42%)\n",
      "\n",
      "Epoch 36:\n"
     ]
    },
    {
     "name": "stderr",
     "output_type": "stream",
     "text": [
      "Loss=0.01 Batch_ID=781 Accuracy=97.99: 100%|██████████| 782/782 [00:27<00:00, 28.41it/s]\n",
      "  0%|          | 0/782 [00:00<?, ?it/s]"
     ]
    },
    {
     "name": "stdout",
     "output_type": "stream",
     "text": [
      "\n",
      "Validation set: Average loss: 0.0051, Accuracy: 9051/10000 (90.51%)\n",
      "\n",
      "Epoch 37:\n"
     ]
    },
    {
     "name": "stderr",
     "output_type": "stream",
     "text": [
      "Loss=0.01 Batch_ID=781 Accuracy=98.05: 100%|██████████| 782/782 [00:27<00:00, 28.76it/s]\n",
      "  0%|          | 0/782 [00:00<?, ?it/s]"
     ]
    },
    {
     "name": "stdout",
     "output_type": "stream",
     "text": [
      "\n",
      "Validation set: Average loss: 0.0050, Accuracy: 9059/10000 (90.59%)\n",
      "\n",
      "Epoch 38:\n"
     ]
    },
    {
     "name": "stderr",
     "output_type": "stream",
     "text": [
      "Loss=0.08 Batch_ID=781 Accuracy=98.03: 100%|██████████| 782/782 [00:26<00:00, 28.97it/s]\n",
      "  0%|          | 0/782 [00:00<?, ?it/s]"
     ]
    },
    {
     "name": "stdout",
     "output_type": "stream",
     "text": [
      "\n",
      "Validation set: Average loss: 0.0051, Accuracy: 9055/10000 (90.55%)\n",
      "\n",
      "Epoch 39:\n"
     ]
    },
    {
     "name": "stderr",
     "output_type": "stream",
     "text": [
      "Loss=0.01 Batch_ID=781 Accuracy=98.04: 100%|██████████| 782/782 [00:27<00:00, 28.15it/s]\n",
      "  0%|          | 0/782 [00:00<?, ?it/s]"
     ]
    },
    {
     "name": "stdout",
     "output_type": "stream",
     "text": [
      "\n",
      "Validation set: Average loss: 0.0050, Accuracy: 9058/10000 (90.58%)\n",
      "\n",
      "Epoch 40:\n"
     ]
    },
    {
     "name": "stderr",
     "output_type": "stream",
     "text": [
      "Loss=0.10 Batch_ID=781 Accuracy=98.05: 100%|██████████| 782/782 [00:27<00:00, 28.77it/s]\n",
      "  0%|          | 0/782 [00:00<?, ?it/s]"
     ]
    },
    {
     "name": "stdout",
     "output_type": "stream",
     "text": [
      "\n",
      "Validation set: Average loss: 0.0051, Accuracy: 9052/10000 (90.52%)\n",
      "\n",
      "Epoch 41:\n"
     ]
    },
    {
     "name": "stderr",
     "output_type": "stream",
     "text": [
      "Loss=0.07 Batch_ID=781 Accuracy=98.06: 100%|██████████| 782/782 [00:27<00:00, 28.35it/s]\n",
      "  0%|          | 0/782 [00:00<?, ?it/s]"
     ]
    },
    {
     "name": "stdout",
     "output_type": "stream",
     "text": [
      "\n",
      "Validation set: Average loss: 0.0051, Accuracy: 9049/10000 (90.49%)\n",
      "\n",
      "Epoch 42:\n"
     ]
    },
    {
     "name": "stderr",
     "output_type": "stream",
     "text": [
      "Loss=0.35 Batch_ID=781 Accuracy=98.11: 100%|██████████| 782/782 [00:27<00:00, 28.52it/s]\n",
      "  0%|          | 0/782 [00:00<?, ?it/s]"
     ]
    },
    {
     "name": "stdout",
     "output_type": "stream",
     "text": [
      "\n",
      "Validation set: Average loss: 0.0052, Accuracy: 9034/10000 (90.34%)\n",
      "\n",
      "Epoch 43:\n"
     ]
    },
    {
     "name": "stderr",
     "output_type": "stream",
     "text": [
      "Loss=0.16 Batch_ID=781 Accuracy=98.03: 100%|██████████| 782/782 [00:27<00:00, 28.56it/s]\n",
      "  0%|          | 0/782 [00:00<?, ?it/s]"
     ]
    },
    {
     "name": "stdout",
     "output_type": "stream",
     "text": [
      "\n",
      "Validation set: Average loss: 0.0051, Accuracy: 9042/10000 (90.42%)\n",
      "\n",
      "Epoch 44:\n"
     ]
    },
    {
     "name": "stderr",
     "output_type": "stream",
     "text": [
      "Loss=0.03 Batch_ID=781 Accuracy=98.06: 100%|██████████| 782/782 [00:27<00:00, 28.64it/s]\n",
      "  0%|          | 0/782 [00:00<?, ?it/s]"
     ]
    },
    {
     "name": "stdout",
     "output_type": "stream",
     "text": [
      "\n",
      "Validation set: Average loss: 0.0051, Accuracy: 9045/10000 (90.45%)\n",
      "\n",
      "Epoch 45:\n"
     ]
    },
    {
     "name": "stderr",
     "output_type": "stream",
     "text": [
      "Loss=0.18 Batch_ID=781 Accuracy=98.07: 100%|██████████| 782/782 [00:27<00:00, 28.34it/s]\n",
      "  0%|          | 0/782 [00:00<?, ?it/s]"
     ]
    },
    {
     "name": "stdout",
     "output_type": "stream",
     "text": [
      "\n",
      "Validation set: Average loss: 0.0051, Accuracy: 9040/10000 (90.40%)\n",
      "\n",
      "Epoch 46:\n"
     ]
    },
    {
     "name": "stderr",
     "output_type": "stream",
     "text": [
      "Loss=0.03 Batch_ID=781 Accuracy=98.08: 100%|██████████| 782/782 [00:27<00:00, 28.44it/s]\n",
      "  0%|          | 0/782 [00:00<?, ?it/s]"
     ]
    },
    {
     "name": "stdout",
     "output_type": "stream",
     "text": [
      "\n",
      "Validation set: Average loss: 0.0051, Accuracy: 9056/10000 (90.56%)\n",
      "\n",
      "Epoch 47:\n"
     ]
    },
    {
     "name": "stderr",
     "output_type": "stream",
     "text": [
      "Loss=0.47 Batch_ID=781 Accuracy=98.12: 100%|██████████| 782/782 [00:27<00:00, 28.48it/s]\n",
      "  0%|          | 0/782 [00:00<?, ?it/s]"
     ]
    },
    {
     "name": "stdout",
     "output_type": "stream",
     "text": [
      "\n",
      "Validation set: Average loss: 0.0051, Accuracy: 9058/10000 (90.58%)\n",
      "\n",
      "Epoch 48:\n"
     ]
    },
    {
     "name": "stderr",
     "output_type": "stream",
     "text": [
      "Loss=0.07 Batch_ID=781 Accuracy=98.17: 100%|██████████| 782/782 [00:27<00:00, 28.37it/s]\n",
      "  0%|          | 0/782 [00:00<?, ?it/s]"
     ]
    },
    {
     "name": "stdout",
     "output_type": "stream",
     "text": [
      "\n",
      "Validation set: Average loss: 0.0051, Accuracy: 9060/10000 (90.60%)\n",
      "\n",
      "Epoch 49:\n"
     ]
    },
    {
     "name": "stderr",
     "output_type": "stream",
     "text": [
      "Loss=0.05 Batch_ID=781 Accuracy=98.24: 100%|██████████| 782/782 [00:27<00:00, 28.49it/s]\n",
      "  0%|          | 0/782 [00:00<?, ?it/s]"
     ]
    },
    {
     "name": "stdout",
     "output_type": "stream",
     "text": [
      "\n",
      "Validation set: Average loss: 0.0051, Accuracy: 9066/10000 (90.66%)\n",
      "\n",
      "Epoch 50:\n"
     ]
    },
    {
     "name": "stderr",
     "output_type": "stream",
     "text": [
      "Loss=0.00 Batch_ID=781 Accuracy=98.20: 100%|██████████| 782/782 [00:27<00:00, 28.64it/s]\n"
     ]
    },
    {
     "name": "stdout",
     "output_type": "stream",
     "text": [
      "\n",
      "Validation set: Average loss: 0.0051, Accuracy: 9065/10000 (90.65%)\n",
      "\n"
     ]
    }
   ],
   "source": [
    "train_accuracies = []\n",
    "val_losses = []\n",
    "val_accuracies = []\n",
    "incorrect_samples = []\n",
    "\n",
    "criterion = cross_entropy_loss()  # Create loss function\n",
    "optimizer = sgd(model, initial_lr, Args.momentum)  # Create optimizer\n",
    "scheduler = reduce_lr_on_plateau(  # Define Reduce LR on plateau\n",
    "    optimizer, factor=Args.lr_decay_factor,\n",
    "    patience=Args.lr_decay_patience, verbose=True,\n",
    "    min_lr=Args.min_lr\n",
    ")\n",
    "last_epoch = False\n",
    "\n",
    "for epoch in range(1, Args.epochs + 1):\n",
    "    print(f'Epoch {epoch}:')\n",
    "    if epoch == Args.epochs:\n",
    "        last_epoch = True\n",
    "    train(model, train_loader, device, optimizer, criterion, accuracies=train_accuracies)\n",
    "    evaluate(\n",
    "        model, val_loader, device, criterion, losses=val_losses,\n",
    "        accuracies=val_accuracies, incorrect_samples=incorrect_samples,\n",
    "        sample_count=Args.sample_count, last_epoch=last_epoch\n",
    "    )\n",
    "    scheduler.step(val_losses[-1])"
   ]
  },
  {
   "cell_type": "markdown",
   "metadata": {
    "colab_type": "text",
    "id": "2o99Jq1XTdo-"
   },
   "source": [
    "## Plotting Results"
   ]
  },
  {
   "cell_type": "markdown",
   "metadata": {
    "colab_type": "text",
    "id": "OSctNrPG2afY"
   },
   "source": [
    "Plot changes in training and validation accuracy"
   ]
  },
  {
   "cell_type": "code",
   "execution_count": 12,
   "metadata": {
    "colab": {
     "base_uri": "https://localhost:8080/",
     "height": 350
    },
    "colab_type": "code",
    "id": "xMFYHCFVA7Z-",
    "outputId": "c137687a-632a-4bdf-8e69-01223bb06278"
   },
   "outputs": [
    {
     "data": {
      "image/png": "[encoded data removed]",
      "text/plain": [
       "<Figure size 504x360 with 1 Axes>"
      ]
     },
     "metadata": {
      "needs_background": "light"
     },
     "output_type": "display_data"
    }
   ],
   "source": [
    "plot_metric(\n",
    "    {'Training': train_accuracies, 'Validation': val_accuracies}, 'Accuracy'\n",
    ")"
   ]
  },
  {
   "cell_type": "markdown",
   "metadata": {
    "colab_type": "text",
    "id": "kOgRFAwwb5Zn"
   },
   "source": [
    "### GradCAM"
   ]
  },
  {
   "cell_type": "markdown",
   "metadata": {
    "colab_type": "text",
    "id": "w32aNwbz_eJ_"
   },
   "source": [
    "Let's display GradCAM of any 25 misclassified images"
   ]
  },
  {
   "cell_type": "code",
   "execution_count": 13,
   "metadata": {
    "colab": {
     "base_uri": "https://localhost:8080/",
     "height": 70
    },
    "colab_type": "code",
    "id": "1PHs8vWVsfuI",
    "outputId": "84af99c5-8f11-4099-e66f-7bf5c793dd83"
   },
   "outputs": [
    {
     "name": "stdout",
     "output_type": "stream",
     "text": [
      "Mode set to GradCAM.\n"
     ]
    },
    {
     "name": "stderr",
     "output_type": "stream",
     "text": [
      "/usr/local/lib/python3.6/dist-packages/torch/nn/functional.py:2796: UserWarning: nn.functional.upsample is deprecated. Use nn.functional.interpolate instead.\n",
      "  warnings.warn(\"nn.functional.upsample is deprecated. Use nn.functional.interpolate instead.\")\n"
     ]
    }
   ],
   "source": [
    "layers = ['layer4']\n",
    "grad_cam = GradCAMView(\n",
    "    model, layers,\n",
    "    device, dataset.mean, dataset.std\n",
    ")\n",
    "\n",
    "gradcam_views = grad_cam([x['image'] for x in incorrect_samples])"
   ]
  },
  {
   "cell_type": "code",
   "execution_count": 14,
   "metadata": {
    "colab": {},
    "colab_type": "code",
    "id": "ERkOFEsw2DQL"
   },
   "outputs": [],
   "source": [
    "def plot_gradcam(cam_data, pred_data, classes, plot_name):\n",
    "    # Initialize plot\n",
    "    fig, axs = plt.subplots(len(cam_data) // 5, 5, figsize=(60, 60))\n",
    "\n",
    "    for idx in range(len(cam_data)):\n",
    "        label = classes[pred_data[idx]['label']]\n",
    "        prediction = classes[pred_data[idx]['prediction']]\n",
    "        \n",
    "        \"\"\"\n",
    "        axs[idx][0].axis('off')\n",
    "        axs[idx][0].set_title(f'Image: {idx + 1}\\nLabel: {label}')\n",
    "        axs[idx][0].imshow(cam_data[idx]['image'])\n",
    "        \"\"\"\n",
    "        \n",
    "        q = idx // 5\n",
    "        m = idx % 5\n",
    "\n",
    "        axs[q][m].axis('off')\n",
    "        axs[q][m].set_title(f'Actual: {label}\\nPrediction: {prediction}', fontdict={'fontsize' : 50})\n",
    "        axs[q][m].imshow(cam_data[idx]['result']['layer4'])\n",
    "    \n",
    "    # Set spacing\n",
    "    fig.tight_layout()\n",
    "    fig.subplots_adjust(top=1.1)\n",
    "\n",
    "    # Save image\n",
    "    fig.savefig(plot_name, bbox_inches='tight')"
   ]
  },
  {
   "cell_type": "code",
   "execution_count": null,
   "metadata": {
    "colab": {
     "base_uri": "https://localhost:8080/",
     "height": 1000
    },
    "colab_type": "code",
    "id": "zKe8sklG0lXv",
    "outputId": "6b35f765-216b-4ea3-d899-2069bfb8c784"
   },
   "outputs": [],
   "source": [
    "plot_gradcam(gradcam_views, incorrect_samples, dataset.classes, 'pred_gradcam.png')"
   ]
  },
  {
   "cell_type": "markdown",
   "metadata": {
    "colab_type": "text",
    "id": "B7ufwZyTSKfk"
   },
   "source": [
    "## Result Analysis\n",
    "\n",
    "Displaying accuracy for each class in the entire validation dataset"
   ]
  },
  {
   "cell_type": "code",
   "execution_count": null,
   "metadata": {
    "colab": {
     "base_uri": "https://localhost:8080/",
     "height": 194
    },
    "colab_type": "code",
    "id": "pDNFuDEDpoDG",
    "outputId": "47a98fbc-6e5e-4e02-e9a8-3d1da485233f"
   },
   "outputs": [],
   "source": [
    "class_level_accuracy(model, val_loader, device, dataset.classes)"
   ]
  }
 ],
 "metadata": {
  "accelerator": "GPU",
  "colab": {
   "collapsed_sections": [],
   "name": "EVA4S10.ipynb",
   "provenance": []
  },
  "kernelspec": {
   "display_name": "Python 3",
   "language": "python",
   "name": "python3"
  },
  "language_info": {
   "codemirror_mode": {
    "name": "ipython",
    "version": 3
   },
   "file_extension": ".py",
   "mimetype": "text/x-python",
   "name": "python",
   "nbconvert_exporter": "python",
   "pygments_lexer": "ipython3",
   "version": "3.7.3"
  },
  "widgets": {
   "application/vnd.jupyter.widget-state+json": {
    "100a1f475e504076a2a93f320e0be0ec": {
     "model_module": "@jupyter-widgets/controls",
     "model_name": "FloatProgressModel",
     "state": {
      "_dom_classes": [],
      "_model_module": "@jupyter-widgets/controls",
      "_model_module_version": "1.5.0",
      "_model_name": "FloatProgressModel",
      "_view_count": null,
      "_view_module": "@jupyter-widgets/controls",
      "_view_module_version": "1.5.0",
      "_view_name": "ProgressView",
      "bar_style": "success",
      "description": "100%",
      "description_tooltip": null,
      "layout": "IPY_MODEL_ce26a67aa1f34a95ae2e0cd9fa7875f7",
      "max": 400,
      "min": 0,
      "orientation": "horizontal",
      "style": "IPY_MODEL_473cfcf859c14859b3d0a570f29fb3e4",
      "value": 400
     }
    },
    "1d9c13e191294e3384b1d0e4cc1884d8": {
     "model_module": "@jupyter-widgets/controls",
     "model_name": "DescriptionStyleModel",
     "state": {
      "_model_module": "@jupyter-widgets/controls",
      "_model_module_version": "1.5.0",
      "_model_name": "DescriptionStyleModel",
      "_view_count": null,
      "_view_module": "@jupyter-widgets/base",
      "_view_module_version": "1.2.0",
      "_view_name": "StyleView",
      "description_width": ""
     }
    },
    "473cfcf859c14859b3d0a570f29fb3e4": {
     "model_module": "@jupyter-widgets/controls",
     "model_name": "ProgressStyleModel",
     "state": {
      "_model_module": "@jupyter-widgets/controls",
      "_model_module_version": "1.5.0",
      "_model_name": "ProgressStyleModel",
      "_view_count": null,
      "_view_module": "@jupyter-widgets/base",
      "_view_module_version": "1.2.0",
      "_view_name": "StyleView",
      "bar_color": null,
      "description_width": "initial"
     }
    },
    "bcfbd9b6353546e4b3ba7945b6e7ece0": {
     "model_module": "@jupyter-widgets/base",
     "model_name": "LayoutModel",
     "state": {
      "_model_module": "@jupyter-widgets/base",
      "_model_module_version": "1.2.0",
      "_model_name": "LayoutModel",
      "_view_count": null,
      "_view_module": "@jupyter-widgets/base",
      "_view_module_version": "1.2.0",
      "_view_name": "LayoutView",
      "align_content": null,
      "align_items": null,
      "align_self": null,
      "border": null,
      "bottom": null,
      "display": null,
      "flex": null,
      "flex_flow": null,
      "grid_area": null,
      "grid_auto_columns": null,
      "grid_auto_flow": null,
      "grid_auto_rows": null,
      "grid_column": null,
      "grid_gap": null,
      "grid_row": null,
      "grid_template_areas": null,
      "grid_template_columns": null,
      "grid_template_rows": null,
      "height": null,
      "justify_content": null,
      "justify_items": null,
      "left": null,
      "margin": null,
      "max_height": null,
      "max_width": null,
      "min_height": null,
      "min_width": null,
      "object_fit": null,
      "object_position": null,
      "order": null,
      "overflow": null,
      "overflow_x": null,
      "overflow_y": null,
      "padding": null,
      "right": null,
      "top": null,
      "visibility": null,
      "width": null
     }
    },
    "ce26a67aa1f34a95ae2e0cd9fa7875f7": {
     "model_module": "@jupyter-widgets/base",
     "model_name": "LayoutModel",
     "state": {
      "_model_module": "@jupyter-widgets/base",
      "_model_module_version": "1.2.0",
      "_model_name": "LayoutModel",
      "_view_count": null,
      "_view_module": "@jupyter-widgets/base",
      "_view_module_version": "1.2.0",
      "_view_name": "LayoutView",
      "align_content": null,
      "align_items": null,
      "align_self": null,
      "border": null,
      "bottom": null,
      "display": null,
      "flex": null,
      "flex_flow": null,
      "grid_area": null,
      "grid_auto_columns": null,
      "grid_auto_flow": null,
      "grid_auto_rows": null,
      "grid_column": null,
      "grid_gap": null,
      "grid_row": null,
      "grid_template_areas": null,
      "grid_template_columns": null,
      "grid_template_rows": null,
      "height": null,
      "justify_content": null,
      "justify_items": null,
      "left": null,
      "margin": null,
      "max_height": null,
      "max_width": null,
      "min_height": null,
      "min_width": null,
      "object_fit": null,
      "object_position": null,
      "order": null,
      "overflow": null,
      "overflow_x": null,
      "overflow_y": null,
      "padding": null,
      "right": null,
      "top": null,
      "visibility": null,
      "width": null
     }
    },
    "d5139ab1224845c1b66003bbf03427a9": {
     "model_module": "@jupyter-widgets/base",
     "model_name": "LayoutModel",
     "state": {
      "_model_module": "@jupyter-widgets/base",
      "_model_module_version": "1.2.0",
      "_model_name": "LayoutModel",
      "_view_count": null,
      "_view_module": "@jupyter-widgets/base",
      "_view_module_version": "1.2.0",
      "_view_name": "LayoutView",
      "align_content": null,
      "align_items": null,
      "align_self": null,
      "border": null,
      "bottom": null,
      "display": null,
      "flex": null,
      "flex_flow": null,
      "grid_area": null,
      "grid_auto_columns": null,
      "grid_auto_flow": null,
      "grid_auto_rows": null,
      "grid_column": null,
      "grid_gap": null,
      "grid_row": null,
      "grid_template_areas": null,
      "grid_template_columns": null,
      "grid_template_rows": null,
      "height": null,
      "justify_content": null,
      "justify_items": null,
      "left": null,
      "margin": null,
      "max_height": null,
      "max_width": null,
      "min_height": null,
      "min_width": null,
      "object_fit": null,
      "object_position": null,
      "order": null,
      "overflow": null,
      "overflow_x": null,
      "overflow_y": null,
      "padding": null,
      "right": null,
      "top": null,
      "visibility": null,
      "width": null
     }
    },
    "d5457a9380e3494082e1085a08bed926": {
     "model_module": "@jupyter-widgets/controls",
     "model_name": "HBoxModel",
     "state": {
      "_dom_classes": [],
      "_model_module": "@jupyter-widgets/controls",
      "_model_module_version": "1.5.0",
      "_model_name": "HBoxModel",
      "_view_count": null,
      "_view_module": "@jupyter-widgets/controls",
      "_view_module_version": "1.5.0",
      "_view_name": "HBoxView",
      "box_style": "",
      "children": [
       "IPY_MODEL_100a1f475e504076a2a93f320e0be0ec",
       "IPY_MODEL_d8cbbfce04eb4a9690f441aa95e06d83"
      ],
      "layout": "IPY_MODEL_bcfbd9b6353546e4b3ba7945b6e7ece0"
     }
    },
    "d8cbbfce04eb4a9690f441aa95e06d83": {
     "model_module": "@jupyter-widgets/controls",
     "model_name": "HTMLModel",
     "state": {
      "_dom_classes": [],
      "_model_module": "@jupyter-widgets/controls",
      "_model_module_version": "1.5.0",
      "_model_name": "HTMLModel",
      "_view_count": null,
      "_view_module": "@jupyter-widgets/controls",
      "_view_module_version": "1.5.0",
      "_view_name": "HTMLView",
      "description": "",
      "description_tooltip": null,
      "layout": "IPY_MODEL_d5139ab1224845c1b66003bbf03427a9",
      "placeholder": "​",
      "style": "IPY_MODEL_1d9c13e191294e3384b1d0e4cc1884d8",
      "value": " 400/400 [00:15&lt;00:00, 25.65it/s]"
     }
    }
   }
  }
 },
 "nbformat": 4,
 "nbformat_minor": 1
}
