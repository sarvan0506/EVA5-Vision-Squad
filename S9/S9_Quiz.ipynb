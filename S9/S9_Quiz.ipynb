{
 "cells": [
  {
   "cell_type": "code",
   "execution_count": 3,
   "metadata": {
    "colab": {
     "base_uri": "https://localhost:8080/",
     "height": 34
    },
    "colab_type": "code",
    "id": "4D5eQJu_pezH",
    "outputId": "85772dda-861c-4cc2-f2d1-57c3441e31fc"
   },
   "outputs": [
    {
     "name": "stdout",
     "output_type": "stream",
     "text": [
      "Current Date/Time:  2020-09-26 13:40:43.500542\n"
     ]
    }
   ],
   "source": [
    "from datetime import datetime\n",
    "print(\"Current Date/Time: \", datetime.now())"
   ]
  },
  {
   "cell_type": "markdown",
   "metadata": {
    "colab_type": "text",
    "id": "aO-7t1Y7-hV4"
   },
   "source": [
    "# Import Files and Packages"
   ]
  },
  {
   "cell_type": "code",
   "execution_count": 4,
   "metadata": {
    "colab": {},
    "colab_type": "code",
    "id": "-yVpodAMpoCi"
   },
   "outputs": [],
   "source": [
    "from torchsummary import summary\n",
    "\n",
    "from cuda import initialize_cuda\n",
    "from data.dataset import CIFAR10\n",
    "from model import QuizDNN\n",
    "from model.utils.loss import cross_entropy_loss\n",
    "from model.utils.optimizers import sgd_optimizer\n",
    "from model.utils.callbacks import lr_scheduler\n",
    "from train import train\n",
    "from evaluate import val"
   ]
  },
  {
   "cell_type": "markdown",
   "metadata": {
    "colab_type": "text",
    "id": "-7CMwrhPDw5b"
   },
   "source": [
    "# Initialize Hyperparameters"
   ]
  },
  {
   "cell_type": "code",
   "execution_count": 5,
   "metadata": {
    "colab": {},
    "colab_type": "code",
    "id": "cq_Mo-qRD79h"
   },
   "outputs": [],
   "source": [
    "class Args:\n",
    "\n",
    "    # Data Loading\n",
    "    # ============\n",
    "\n",
    "    train_batch_size = 64\n",
    "    val_batch_size = 64\n",
    "    num_workers = 4\n",
    "\n",
    "    # Training\n",
    "    # ========\n",
    "    random_seed = 1\n",
    "    epochs = 10\n",
    "    learning_rate = 0.01\n",
    "    momentum = 0.9\n",
    "    sample_count = 10"
   ]
  },
  {
   "cell_type": "markdown",
   "metadata": {
    "colab_type": "text",
    "id": "Ve_XDp27GSN_"
   },
   "source": [
    "## Set Seed and Get GPU Availability"
   ]
  },
  {
   "cell_type": "code",
   "execution_count": 6,
   "metadata": {
    "colab": {
     "base_uri": "https://localhost:8080/",
     "height": 34
    },
    "colab_type": "code",
    "id": "CxVy79mmfQ1e",
    "outputId": "74cd79fa-7f90-4103-830d-d0e8eee2e044"
   },
   "outputs": [
    {
     "name": "stdout",
     "output_type": "stream",
     "text": [
      "GPU Available? True\n"
     ]
    }
   ],
   "source": [
    "# Initialize CUDA and set random seed\n",
    "cuda, device = initialize_cuda(Args.random_seed)"
   ]
  },
  {
   "cell_type": "markdown",
   "metadata": {
    "colab_type": "text",
    "id": "cKi2t8X-CKJ5"
   },
   "source": [
    "# Download CIFAR-10 Dataset"
   ]
  },
  {
   "cell_type": "code",
   "execution_count": 7,
   "metadata": {
    "colab": {
     "base_uri": "https://localhost:8080/",
     "height": 136,
     "referenced_widgets": [
      "d6f903afc2f740a1b1aa77e432b22436",
      "7b5c011e978843bb9d56bb5cc7f2ee6e",
      "857ddaa75ec14cdab2ae4eecb6c638be",
      "099364dfc28146b29f3f1508af300aa7",
      "a2a93a80c5054f089a09f2b8453d600b",
      "55e654d4d5bf417cb1515b5fe2832129",
      "19413c1aed654471aeddcfb64b76a0fe",
      "0b8156ebcfa4438c80925e3e3cab8c6d"
     ]
    },
    "colab_type": "code",
    "id": "QZjDtZVLGXh-",
    "outputId": "b4d6050b-b82f-4cc7-e8a2-1db47745d593"
   },
   "outputs": [
    {
     "name": "stdout",
     "output_type": "stream",
     "text": [
      "Downloading https://www.cs.toronto.edu/~kriz/cifar-10-python.tar.gz to /src/D/Research/EVA5-Vision-Squad/S9/data/cifar10/cifar-10-python.tar.gz\n"
     ]
    },
    {
     "data": {
      "application/vnd.jupyter.widget-view+json": {
       "model_id": "8c3977cc296147a8a110adfc078199af",
       "version_major": 2,
       "version_minor": 0
      },
      "text/plain": [
       "HBox(children=(FloatProgress(value=1.0, bar_style='info', max=1.0), HTML(value='')))"
      ]
     },
     "metadata": {},
     "output_type": "display_data"
    },
    {
     "name": "stdout",
     "output_type": "stream",
     "text": [
      "Extracting /src/D/Research/EVA5-Vision-Squad/S9/data/cifar10/cifar-10-python.tar.gz to /src/D/Research/EVA5-Vision-Squad/S9/data/cifar10\n",
      "Files already downloaded and verified\n",
      "Files already downloaded and verified\n"
     ]
    }
   ],
   "source": [
    "dataset = CIFAR10(\n",
    "    train_batch_size=Args.train_batch_size,\n",
    "    val_batch_size=Args.val_batch_size,\n",
    "    cuda=cuda,\n",
    "    num_workers=Args.num_workers\n",
    ")"
   ]
  },
  {
   "cell_type": "markdown",
   "metadata": {
    "colab_type": "text",
    "id": "qFcWRAeY_MsB"
   },
   "source": [
    "## Training and Validation Dataloaders"
   ]
  },
  {
   "cell_type": "code",
   "execution_count": 8,
   "metadata": {
    "colab": {},
    "colab_type": "code",
    "id": "D8Tjigo2poCl"
   },
   "outputs": [],
   "source": [
    "# Create train data loader\n",
    "train_loader = dataset.loader(train=True)\n",
    "\n",
    "# Create val data loader\n",
    "val_loader = dataset.loader(train=False)"
   ]
  },
  {
   "cell_type": "markdown",
   "metadata": {
    "colab_type": "text",
    "id": "HSeDIqBq-6pC"
   },
   "source": [
    "# Model Architecture and Summary"
   ]
  },
  {
   "cell_type": "code",
   "execution_count": 9,
   "metadata": {
    "colab": {
     "base_uri": "https://localhost:8080/",
     "height": 781
    },
    "colab_type": "code",
    "id": "vMmcgGBIguNc",
    "outputId": "91be66b1-f5e7-4c25-d600-e54131afe2b6"
   },
   "outputs": [
    {
     "name": "stdout",
     "output_type": "stream",
     "text": [
      "----------------------------------------------------------------\n",
      "        Layer (type)               Output Shape         Param #\n",
      "================================================================\n",
      "            Conv2d-1           [-1, 64, 32, 32]           1,792\n",
      "              ReLU-2           [-1, 64, 32, 32]               0\n",
      "       BatchNorm2d-3           [-1, 64, 32, 32]             128\n",
      "            Conv2d-4           [-1, 64, 32, 32]          36,928\n",
      "              ReLU-5           [-1, 64, 32, 32]               0\n",
      "       BatchNorm2d-6           [-1, 64, 32, 32]             128\n",
      "            Conv2d-7           [-1, 64, 32, 32]          36,928\n",
      "              ReLU-8           [-1, 64, 32, 32]               0\n",
      "       BatchNorm2d-9           [-1, 64, 32, 32]             128\n",
      "        MaxPool2d-10           [-1, 64, 16, 16]               0\n",
      "           Conv2d-11           [-1, 64, 16, 16]          36,928\n",
      "             ReLU-12           [-1, 64, 16, 16]               0\n",
      "      BatchNorm2d-13           [-1, 64, 16, 16]             128\n",
      "           Conv2d-14           [-1, 64, 16, 16]          36,928\n",
      "             ReLU-15           [-1, 64, 16, 16]               0\n",
      "      BatchNorm2d-16           [-1, 64, 16, 16]             128\n",
      "           Conv2d-17           [-1, 64, 16, 16]          36,928\n",
      "             ReLU-18           [-1, 64, 16, 16]               0\n",
      "      BatchNorm2d-19           [-1, 64, 16, 16]             128\n",
      "        MaxPool2d-20             [-1, 64, 8, 8]               0\n",
      "           Conv2d-21             [-1, 64, 8, 8]          36,928\n",
      "             ReLU-22             [-1, 64, 8, 8]               0\n",
      "      BatchNorm2d-23             [-1, 64, 8, 8]             128\n",
      "           Conv2d-24             [-1, 64, 8, 8]          36,928\n",
      "             ReLU-25             [-1, 64, 8, 8]               0\n",
      "      BatchNorm2d-26             [-1, 64, 8, 8]             128\n",
      "           Conv2d-27             [-1, 64, 8, 8]          36,928\n",
      "             ReLU-28             [-1, 64, 8, 8]               0\n",
      "      BatchNorm2d-29             [-1, 64, 8, 8]             128\n",
      "AdaptiveAvgPool2d-30             [-1, 64, 1, 1]               0\n",
      "           Linear-31                   [-1, 10]             650\n",
      "================================================================\n",
      "Total params: 299,018\n",
      "Trainable params: 299,018\n",
      "Non-trainable params: 0\n",
      "----------------------------------------------------------------\n",
      "Input size (MB): 0.01\n",
      "Forward/backward pass size (MB): 6.06\n",
      "Params size (MB): 1.14\n",
      "Estimated Total Size (MB): 7.22\n",
      "----------------------------------------------------------------\n"
     ]
    }
   ],
   "source": [
    "model = QuizDNN().to(device)\n",
    "summary(model, dataset.image_size)"
   ]
  },
  {
   "cell_type": "markdown",
   "metadata": {
    "colab_type": "text",
    "id": "HcyKrcQEGcdp"
   },
   "source": [
    "# Model Training and Validation"
   ]
  },
  {
   "cell_type": "code",
   "execution_count": 10,
   "metadata": {
    "colab": {
     "base_uri": "https://localhost:8080/",
     "height": 885
    },
    "colab_type": "code",
    "id": "EQa7-dvfvXlj",
    "outputId": "64f60875-3ed6-4c3f-8e97-1f7b151e986c"
   },
   "outputs": [
    {
     "name": "stderr",
     "output_type": "stream",
     "text": [
      "\r",
      "  0%|          | 0/782 [00:00<?, ?it/s]"
     ]
    },
    {
     "name": "stdout",
     "output_type": "stream",
     "text": [
      "Epoch 1:\n"
     ]
    },
    {
     "name": "stderr",
     "output_type": "stream",
     "text": [
      "Loss=0.91 Batch_ID=781 Accuracy=54.85: 100%|██████████| 782/782 [00:09<00:00, 81.93it/s]\n",
      "  0%|          | 0/782 [00:00<?, ?it/s]"
     ]
    },
    {
     "name": "stdout",
     "output_type": "stream",
     "text": [
      "\n",
      "Validation set: Average loss: 0.0171, Accuracy: 6141/10000 (61.41%)\n",
      "\n",
      "Epoch 2:\n"
     ]
    },
    {
     "name": "stderr",
     "output_type": "stream",
     "text": [
      "Loss=1.22 Batch_ID=781 Accuracy=71.01: 100%|██████████| 782/782 [00:09<00:00, 83.27it/s]\n",
      "  0%|          | 0/782 [00:00<?, ?it/s]"
     ]
    },
    {
     "name": "stdout",
     "output_type": "stream",
     "text": [
      "\n",
      "Validation set: Average loss: 0.0117, Accuracy: 7370/10000 (73.70%)\n",
      "\n",
      "Epoch 3:\n"
     ]
    },
    {
     "name": "stderr",
     "output_type": "stream",
     "text": [
      "Loss=0.92 Batch_ID=781 Accuracy=77.54: 100%|██████████| 782/782 [00:09<00:00, 82.83it/s]\n",
      "  0%|          | 0/782 [00:00<?, ?it/s]"
     ]
    },
    {
     "name": "stdout",
     "output_type": "stream",
     "text": [
      "\n",
      "Validation set: Average loss: 0.0115, Accuracy: 7531/10000 (75.31%)\n",
      "\n",
      "Epoch 4:\n"
     ]
    },
    {
     "name": "stderr",
     "output_type": "stream",
     "text": [
      "Loss=0.99 Batch_ID=781 Accuracy=81.91: 100%|██████████| 782/782 [00:09<00:00, 82.69it/s]\n",
      "  0%|          | 0/782 [00:00<?, ?it/s]"
     ]
    },
    {
     "name": "stdout",
     "output_type": "stream",
     "text": [
      "\n",
      "Validation set: Average loss: 0.0090, Accuracy: 8058/10000 (80.58%)\n",
      "\n",
      "Epoch 5:\n"
     ]
    },
    {
     "name": "stderr",
     "output_type": "stream",
     "text": [
      "Loss=0.71 Batch_ID=781 Accuracy=84.70: 100%|██████████| 782/782 [00:09<00:00, 82.22it/s]\n",
      "  0%|          | 0/782 [00:00<?, ?it/s]"
     ]
    },
    {
     "name": "stdout",
     "output_type": "stream",
     "text": [
      "\n",
      "Validation set: Average loss: 0.0093, Accuracy: 7948/10000 (79.48%)\n",
      "\n",
      "Epoch 6:\n"
     ]
    },
    {
     "name": "stderr",
     "output_type": "stream",
     "text": [
      "Loss=0.29 Batch_ID=781 Accuracy=87.12: 100%|██████████| 782/782 [00:09<00:00, 82.29it/s]\n",
      "  0%|          | 0/782 [00:00<?, ?it/s]"
     ]
    },
    {
     "name": "stdout",
     "output_type": "stream",
     "text": [
      "\n",
      "Validation set: Average loss: 0.0095, Accuracy: 8035/10000 (80.35%)\n",
      "\n",
      "Epoch 7:\n"
     ]
    },
    {
     "name": "stderr",
     "output_type": "stream",
     "text": [
      "Loss=0.19 Batch_ID=781 Accuracy=89.09: 100%|██████████| 782/782 [00:09<00:00, 81.85it/s]\n",
      "  0%|          | 0/782 [00:00<?, ?it/s]"
     ]
    },
    {
     "name": "stdout",
     "output_type": "stream",
     "text": [
      "\n",
      "Validation set: Average loss: 0.0090, Accuracy: 8200/10000 (82.00%)\n",
      "\n",
      "Epoch 8:\n"
     ]
    },
    {
     "name": "stderr",
     "output_type": "stream",
     "text": [
      "Loss=0.65 Batch_ID=781 Accuracy=91.02: 100%|██████████| 782/782 [00:09<00:00, 82.30it/s]\n",
      "  0%|          | 0/782 [00:00<?, ?it/s]"
     ]
    },
    {
     "name": "stdout",
     "output_type": "stream",
     "text": [
      "\n",
      "Validation set: Average loss: 0.0096, Accuracy: 8090/10000 (80.90%)\n",
      "\n",
      "Epoch 9:\n"
     ]
    },
    {
     "name": "stderr",
     "output_type": "stream",
     "text": [
      "Loss=0.17 Batch_ID=781 Accuracy=92.11: 100%|██████████| 782/782 [00:09<00:00, 81.50it/s]\n",
      "  0%|          | 0/782 [00:00<?, ?it/s]"
     ]
    },
    {
     "name": "stdout",
     "output_type": "stream",
     "text": [
      "\n",
      "Validation set: Average loss: 0.0099, Accuracy: 8069/10000 (80.69%)\n",
      "\n",
      "Epoch 10:\n"
     ]
    },
    {
     "name": "stderr",
     "output_type": "stream",
     "text": [
      "Loss=0.35 Batch_ID=781 Accuracy=93.46: 100%|██████████| 782/782 [00:09<00:00, 82.52it/s]\n"
     ]
    },
    {
     "name": "stdout",
     "output_type": "stream",
     "text": [
      "\n",
      "Validation set: Average loss: 0.0100, Accuracy: 8147/10000 (81.47%)\n",
      "\n"
     ]
    }
   ],
   "source": [
    "losses = []\n",
    "accuracies = []\n",
    "correct_samples = []\n",
    "incorrect_samples = []\n",
    "\n",
    "criterion = cross_entropy_loss()  # Create loss function\n",
    "optimizer = sgd_optimizer(model, Args.learning_rate, Args.momentum)  # Create optimizer\n",
    "last_epoch = False\n",
    "\n",
    "for epoch in range(1, Args.epochs + 1):\n",
    "    print(f'Epoch {epoch}:')\n",
    "    if epoch == Args.epochs:\n",
    "        last_epoch = True\n",
    "    train(model, train_loader, device, optimizer, criterion)\n",
    "    val(\n",
    "        model, val_loader, device, criterion, losses, accuracies,\n",
    "        correct_samples, incorrect_samples, Args.sample_count, last_epoch=last_epoch\n",
    "    )"
   ]
  }
 ],
 "metadata": {
  "accelerator": "GPU",
  "colab": {
   "collapsed_sections": [],
   "name": "EVA4S9_quiz.ipynb",
   "provenance": []
  },
  "kernelspec": {
   "display_name": "Python 3",
   "language": "python",
   "name": "python3"
  },
  "language_info": {
   "codemirror_mode": {
    "name": "ipython",
    "version": 3
   },
   "file_extension": ".py",
   "mimetype": "text/x-python",
   "name": "python",
   "nbconvert_exporter": "python",
   "pygments_lexer": "ipython3",
   "version": "3.6.9"
  },
  "widgets": {
   "application/vnd.jupyter.widget-state+json": {
    "099364dfc28146b29f3f1508af300aa7": {
     "model_module": "@jupyter-widgets/controls",
     "model_name": "HTMLModel",
     "state": {
      "_dom_classes": [],
      "_model_module": "@jupyter-widgets/controls",
      "_model_module_version": "1.5.0",
      "_model_name": "HTMLModel",
      "_view_count": null,
      "_view_module": "@jupyter-widgets/controls",
      "_view_module_version": "1.5.0",
      "_view_name": "HTMLView",
      "description": "",
      "description_tooltip": null,
      "layout": "IPY_MODEL_0b8156ebcfa4438c80925e3e3cab8c6d",
      "placeholder": "​",
      "style": "IPY_MODEL_19413c1aed654471aeddcfb64b76a0fe",
      "value": "170500096it [00:06, 27716289.15it/s]"
     }
    },
    "0b8156ebcfa4438c80925e3e3cab8c6d": {
     "model_module": "@jupyter-widgets/base",
     "model_name": "LayoutModel",
     "state": {
      "_model_module": "@jupyter-widgets/base",
      "_model_module_version": "1.2.0",
      "_model_name": "LayoutModel",
      "_view_count": null,
      "_view_module": "@jupyter-widgets/base",
      "_view_module_version": "1.2.0",
      "_view_name": "LayoutView",
      "align_content": null,
      "align_items": null,
      "align_self": null,
      "border": null,
      "bottom": null,
      "display": null,
      "flex": null,
      "flex_flow": null,
      "grid_area": null,
      "grid_auto_columns": null,
      "grid_auto_flow": null,
      "grid_auto_rows": null,
      "grid_column": null,
      "grid_gap": null,
      "grid_row": null,
      "grid_template_areas": null,
      "grid_template_columns": null,
      "grid_template_rows": null,
      "height": null,
      "justify_content": null,
      "justify_items": null,
      "left": null,
      "margin": null,
      "max_height": null,
      "max_width": null,
      "min_height": null,
      "min_width": null,
      "object_fit": null,
      "object_position": null,
      "order": null,
      "overflow": null,
      "overflow_x": null,
      "overflow_y": null,
      "padding": null,
      "right": null,
      "top": null,
      "visibility": null,
      "width": null
     }
    },
    "19413c1aed654471aeddcfb64b76a0fe": {
     "model_module": "@jupyter-widgets/controls",
     "model_name": "DescriptionStyleModel",
     "state": {
      "_model_module": "@jupyter-widgets/controls",
      "_model_module_version": "1.5.0",
      "_model_name": "DescriptionStyleModel",
      "_view_count": null,
      "_view_module": "@jupyter-widgets/base",
      "_view_module_version": "1.2.0",
      "_view_name": "StyleView",
      "description_width": ""
     }
    },
    "55e654d4d5bf417cb1515b5fe2832129": {
     "model_module": "@jupyter-widgets/base",
     "model_name": "LayoutModel",
     "state": {
      "_model_module": "@jupyter-widgets/base",
      "_model_module_version": "1.2.0",
      "_model_name": "LayoutModel",
      "_view_count": null,
      "_view_module": "@jupyter-widgets/base",
      "_view_module_version": "1.2.0",
      "_view_name": "LayoutView",
      "align_content": null,
      "align_items": null,
      "align_self": null,
      "border": null,
      "bottom": null,
      "display": null,
      "flex": null,
      "flex_flow": null,
      "grid_area": null,
      "grid_auto_columns": null,
      "grid_auto_flow": null,
      "grid_auto_rows": null,
      "grid_column": null,
      "grid_gap": null,
      "grid_row": null,
      "grid_template_areas": null,
      "grid_template_columns": null,
      "grid_template_rows": null,
      "height": null,
      "justify_content": null,
      "justify_items": null,
      "left": null,
      "margin": null,
      "max_height": null,
      "max_width": null,
      "min_height": null,
      "min_width": null,
      "object_fit": null,
      "object_position": null,
      "order": null,
      "overflow": null,
      "overflow_x": null,
      "overflow_y": null,
      "padding": null,
      "right": null,
      "top": null,
      "visibility": null,
      "width": null
     }
    },
    "7b5c011e978843bb9d56bb5cc7f2ee6e": {
     "model_module": "@jupyter-widgets/base",
     "model_name": "LayoutModel",
     "state": {
      "_model_module": "@jupyter-widgets/base",
      "_model_module_version": "1.2.0",
      "_model_name": "LayoutModel",
      "_view_count": null,
      "_view_module": "@jupyter-widgets/base",
      "_view_module_version": "1.2.0",
      "_view_name": "LayoutView",
      "align_content": null,
      "align_items": null,
      "align_self": null,
      "border": null,
      "bottom": null,
      "display": null,
      "flex": null,
      "flex_flow": null,
      "grid_area": null,
      "grid_auto_columns": null,
      "grid_auto_flow": null,
      "grid_auto_rows": null,
      "grid_column": null,
      "grid_gap": null,
      "grid_row": null,
      "grid_template_areas": null,
      "grid_template_columns": null,
      "grid_template_rows": null,
      "height": null,
      "justify_content": null,
      "justify_items": null,
      "left": null,
      "margin": null,
      "max_height": null,
      "max_width": null,
      "min_height": null,
      "min_width": null,
      "object_fit": null,
      "object_position": null,
      "order": null,
      "overflow": null,
      "overflow_x": null,
      "overflow_y": null,
      "padding": null,
      "right": null,
      "top": null,
      "visibility": null,
      "width": null
     }
    },
    "857ddaa75ec14cdab2ae4eecb6c638be": {
     "model_module": "@jupyter-widgets/controls",
     "model_name": "IntProgressModel",
     "state": {
      "_dom_classes": [],
      "_model_module": "@jupyter-widgets/controls",
      "_model_module_version": "1.5.0",
      "_model_name": "IntProgressModel",
      "_view_count": null,
      "_view_module": "@jupyter-widgets/controls",
      "_view_module_version": "1.5.0",
      "_view_name": "ProgressView",
      "bar_style": "success",
      "description": "",
      "description_tooltip": null,
      "layout": "IPY_MODEL_55e654d4d5bf417cb1515b5fe2832129",
      "max": 1,
      "min": 0,
      "orientation": "horizontal",
      "style": "IPY_MODEL_a2a93a80c5054f089a09f2b8453d600b",
      "value": 1
     }
    },
    "a2a93a80c5054f089a09f2b8453d600b": {
     "model_module": "@jupyter-widgets/controls",
     "model_name": "ProgressStyleModel",
     "state": {
      "_model_module": "@jupyter-widgets/controls",
      "_model_module_version": "1.5.0",
      "_model_name": "ProgressStyleModel",
      "_view_count": null,
      "_view_module": "@jupyter-widgets/base",
      "_view_module_version": "1.2.0",
      "_view_name": "StyleView",
      "bar_color": null,
      "description_width": ""
     }
    },
    "d6f903afc2f740a1b1aa77e432b22436": {
     "model_module": "@jupyter-widgets/controls",
     "model_name": "HBoxModel",
     "state": {
      "_dom_classes": [],
      "_model_module": "@jupyter-widgets/controls",
      "_model_module_version": "1.5.0",
      "_model_name": "HBoxModel",
      "_view_count": null,
      "_view_module": "@jupyter-widgets/controls",
      "_view_module_version": "1.5.0",
      "_view_name": "HBoxView",
      "box_style": "",
      "children": [
       "IPY_MODEL_857ddaa75ec14cdab2ae4eecb6c638be",
       "IPY_MODEL_099364dfc28146b29f3f1508af300aa7"
      ],
      "layout": "IPY_MODEL_7b5c011e978843bb9d56bb5cc7f2ee6e"
     }
    }
   }
  }
 },
 "nbformat": 4,
 "nbformat_minor": 1
}
